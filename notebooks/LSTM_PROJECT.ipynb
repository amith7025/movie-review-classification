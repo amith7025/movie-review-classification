{
  "cells": [
    {
      "cell_type": "markdown",
      "source": [
        "# **Connecting to Google Drive**"
      ],
      "metadata": {
        "id": "PJyuIPt0N1Bj"
      },
      "id": "PJyuIPt0N1Bj"
    },
    {
      "cell_type": "code",
      "source": [
        "from google.colab import drive\n",
        "drive.mount('drive')"
      ],
      "metadata": {
        "colab": {
          "base_uri": "https://localhost:8080/"
        },
        "id": "yMkpfTJ9NCkB",
        "outputId": "71cac49e-1228-4153-eb66-9903e2daaef0"
      },
      "id": "yMkpfTJ9NCkB",
      "execution_count": 21,
      "outputs": [
        {
          "output_type": "stream",
          "name": "stdout",
          "text": [
            "Drive already mounted at drive; to attempt to forcibly remount, call drive.mount(\"drive\", force_remount=True).\n"
          ]
        }
      ]
    },
    {
      "cell_type": "markdown",
      "source": [
        "# **Importing the necessary Modules**"
      ],
      "metadata": {
        "id": "R0rWFilHN58Z"
      },
      "id": "R0rWFilHN58Z"
    },
    {
      "cell_type": "code",
      "execution_count": 22,
      "id": "15135004-73c9-4356-aaea-520f56bee3cd",
      "metadata": {
        "id": "15135004-73c9-4356-aaea-520f56bee3cd"
      },
      "outputs": [],
      "source": [
        "import pandas as pd\n",
        "import numpy as np\n",
        "from imblearn.under_sampling import RandomUnderSampler\n",
        "import matplotlib.pyplot as plt\n",
        "import spacy\n",
        "from sklearn.model_selection import train_test_split\n",
        "from sklearn.tree import DecisionTreeClassifier\n",
        "from sklearn.ensemble import RandomForestClassifier\n",
        "from sklearn.neighbors import KNeighborsClassifier\n",
        "from sklearn.metrics import classification_report\n",
        "from sklearn.naive_bayes import MultinomialNB\n",
        "from sklearn.preprocessing import MinMaxScaler\n",
        "import torch\n",
        "from torch.utils.data import Dataset\n",
        "from torch.utils.data import DataLoader\n",
        "import torch.nn as nn\n",
        "import torch.optim as optim"
      ]
    },
    {
      "cell_type": "markdown",
      "source": [
        "# **Getting the data**"
      ],
      "metadata": {
        "id": "-9oz14wUN-KQ"
      },
      "id": "-9oz14wUN-KQ"
    },
    {
      "cell_type": "code",
      "execution_count": 23,
      "id": "051cb5e1-61c6-498c-a065-7f4602286c9b",
      "metadata": {
        "colab": {
          "base_uri": "https://localhost:8080/",
          "height": 206
        },
        "id": "051cb5e1-61c6-498c-a065-7f4602286c9b",
        "outputId": "5055ce76-2e37-4c07-aa29-a43694a40788"
      },
      "outputs": [
        {
          "output_type": "execute_result",
          "data": {
            "text/plain": [
              "                                                text  label\n",
              "0  I grew up (b. 1965) watching and loving the Th...      0\n",
              "1  When I put this movie in my DVD player, and sa...      0\n",
              "2  Why do people who do not know what a particula...      0\n",
              "3  Even though I have great interest in Biblical ...      0\n",
              "4  Im a die hard Dads Army fan and nothing will e...      1"
            ],
            "text/html": [
              "\n",
              "  <div id=\"df-0d745ba1-fefb-420d-8c0f-ddc8cc460db2\" class=\"colab-df-container\">\n",
              "    <div>\n",
              "<style scoped>\n",
              "    .dataframe tbody tr th:only-of-type {\n",
              "        vertical-align: middle;\n",
              "    }\n",
              "\n",
              "    .dataframe tbody tr th {\n",
              "        vertical-align: top;\n",
              "    }\n",
              "\n",
              "    .dataframe thead th {\n",
              "        text-align: right;\n",
              "    }\n",
              "</style>\n",
              "<table border=\"1\" class=\"dataframe\">\n",
              "  <thead>\n",
              "    <tr style=\"text-align: right;\">\n",
              "      <th></th>\n",
              "      <th>text</th>\n",
              "      <th>label</th>\n",
              "    </tr>\n",
              "  </thead>\n",
              "  <tbody>\n",
              "    <tr>\n",
              "      <th>0</th>\n",
              "      <td>I grew up (b. 1965) watching and loving the Th...</td>\n",
              "      <td>0</td>\n",
              "    </tr>\n",
              "    <tr>\n",
              "      <th>1</th>\n",
              "      <td>When I put this movie in my DVD player, and sa...</td>\n",
              "      <td>0</td>\n",
              "    </tr>\n",
              "    <tr>\n",
              "      <th>2</th>\n",
              "      <td>Why do people who do not know what a particula...</td>\n",
              "      <td>0</td>\n",
              "    </tr>\n",
              "    <tr>\n",
              "      <th>3</th>\n",
              "      <td>Even though I have great interest in Biblical ...</td>\n",
              "      <td>0</td>\n",
              "    </tr>\n",
              "    <tr>\n",
              "      <th>4</th>\n",
              "      <td>Im a die hard Dads Army fan and nothing will e...</td>\n",
              "      <td>1</td>\n",
              "    </tr>\n",
              "  </tbody>\n",
              "</table>\n",
              "</div>\n",
              "    <div class=\"colab-df-buttons\">\n",
              "\n",
              "  <div class=\"colab-df-container\">\n",
              "    <button class=\"colab-df-convert\" onclick=\"convertToInteractive('df-0d745ba1-fefb-420d-8c0f-ddc8cc460db2')\"\n",
              "            title=\"Convert this dataframe to an interactive table.\"\n",
              "            style=\"display:none;\">\n",
              "\n",
              "  <svg xmlns=\"http://www.w3.org/2000/svg\" height=\"24px\" viewBox=\"0 -960 960 960\">\n",
              "    <path d=\"M120-120v-720h720v720H120Zm60-500h600v-160H180v160Zm220 220h160v-160H400v160Zm0 220h160v-160H400v160ZM180-400h160v-160H180v160Zm440 0h160v-160H620v160ZM180-180h160v-160H180v160Zm440 0h160v-160H620v160Z\"/>\n",
              "  </svg>\n",
              "    </button>\n",
              "\n",
              "  <style>\n",
              "    .colab-df-container {\n",
              "      display:flex;\n",
              "      gap: 12px;\n",
              "    }\n",
              "\n",
              "    .colab-df-convert {\n",
              "      background-color: #E8F0FE;\n",
              "      border: none;\n",
              "      border-radius: 50%;\n",
              "      cursor: pointer;\n",
              "      display: none;\n",
              "      fill: #1967D2;\n",
              "      height: 32px;\n",
              "      padding: 0 0 0 0;\n",
              "      width: 32px;\n",
              "    }\n",
              "\n",
              "    .colab-df-convert:hover {\n",
              "      background-color: #E2EBFA;\n",
              "      box-shadow: 0px 1px 2px rgba(60, 64, 67, 0.3), 0px 1px 3px 1px rgba(60, 64, 67, 0.15);\n",
              "      fill: #174EA6;\n",
              "    }\n",
              "\n",
              "    .colab-df-buttons div {\n",
              "      margin-bottom: 4px;\n",
              "    }\n",
              "\n",
              "    [theme=dark] .colab-df-convert {\n",
              "      background-color: #3B4455;\n",
              "      fill: #D2E3FC;\n",
              "    }\n",
              "\n",
              "    [theme=dark] .colab-df-convert:hover {\n",
              "      background-color: #434B5C;\n",
              "      box-shadow: 0px 1px 3px 1px rgba(0, 0, 0, 0.15);\n",
              "      filter: drop-shadow(0px 1px 2px rgba(0, 0, 0, 0.3));\n",
              "      fill: #FFFFFF;\n",
              "    }\n",
              "  </style>\n",
              "\n",
              "    <script>\n",
              "      const buttonEl =\n",
              "        document.querySelector('#df-0d745ba1-fefb-420d-8c0f-ddc8cc460db2 button.colab-df-convert');\n",
              "      buttonEl.style.display =\n",
              "        google.colab.kernel.accessAllowed ? 'block' : 'none';\n",
              "\n",
              "      async function convertToInteractive(key) {\n",
              "        const element = document.querySelector('#df-0d745ba1-fefb-420d-8c0f-ddc8cc460db2');\n",
              "        const dataTable =\n",
              "          await google.colab.kernel.invokeFunction('convertToInteractive',\n",
              "                                                    [key], {});\n",
              "        if (!dataTable) return;\n",
              "\n",
              "        const docLinkHtml = 'Like what you see? Visit the ' +\n",
              "          '<a target=\"_blank\" href=https://colab.research.google.com/notebooks/data_table.ipynb>data table notebook</a>'\n",
              "          + ' to learn more about interactive tables.';\n",
              "        element.innerHTML = '';\n",
              "        dataTable['output_type'] = 'display_data';\n",
              "        await google.colab.output.renderOutput(dataTable, element);\n",
              "        const docLink = document.createElement('div');\n",
              "        docLink.innerHTML = docLinkHtml;\n",
              "        element.appendChild(docLink);\n",
              "      }\n",
              "    </script>\n",
              "  </div>\n",
              "\n",
              "\n",
              "<div id=\"df-68e2990e-2384-4d9f-9de9-1273f5abe760\">\n",
              "  <button class=\"colab-df-quickchart\" onclick=\"quickchart('df-68e2990e-2384-4d9f-9de9-1273f5abe760')\"\n",
              "            title=\"Suggest charts\"\n",
              "            style=\"display:none;\">\n",
              "\n",
              "<svg xmlns=\"http://www.w3.org/2000/svg\" height=\"24px\"viewBox=\"0 0 24 24\"\n",
              "     width=\"24px\">\n",
              "    <g>\n",
              "        <path d=\"M19 3H5c-1.1 0-2 .9-2 2v14c0 1.1.9 2 2 2h14c1.1 0 2-.9 2-2V5c0-1.1-.9-2-2-2zM9 17H7v-7h2v7zm4 0h-2V7h2v10zm4 0h-2v-4h2v4z\"/>\n",
              "    </g>\n",
              "</svg>\n",
              "  </button>\n",
              "\n",
              "<style>\n",
              "  .colab-df-quickchart {\n",
              "      --bg-color: #E8F0FE;\n",
              "      --fill-color: #1967D2;\n",
              "      --hover-bg-color: #E2EBFA;\n",
              "      --hover-fill-color: #174EA6;\n",
              "      --disabled-fill-color: #AAA;\n",
              "      --disabled-bg-color: #DDD;\n",
              "  }\n",
              "\n",
              "  [theme=dark] .colab-df-quickchart {\n",
              "      --bg-color: #3B4455;\n",
              "      --fill-color: #D2E3FC;\n",
              "      --hover-bg-color: #434B5C;\n",
              "      --hover-fill-color: #FFFFFF;\n",
              "      --disabled-bg-color: #3B4455;\n",
              "      --disabled-fill-color: #666;\n",
              "  }\n",
              "\n",
              "  .colab-df-quickchart {\n",
              "    background-color: var(--bg-color);\n",
              "    border: none;\n",
              "    border-radius: 50%;\n",
              "    cursor: pointer;\n",
              "    display: none;\n",
              "    fill: var(--fill-color);\n",
              "    height: 32px;\n",
              "    padding: 0;\n",
              "    width: 32px;\n",
              "  }\n",
              "\n",
              "  .colab-df-quickchart:hover {\n",
              "    background-color: var(--hover-bg-color);\n",
              "    box-shadow: 0 1px 2px rgba(60, 64, 67, 0.3), 0 1px 3px 1px rgba(60, 64, 67, 0.15);\n",
              "    fill: var(--button-hover-fill-color);\n",
              "  }\n",
              "\n",
              "  .colab-df-quickchart-complete:disabled,\n",
              "  .colab-df-quickchart-complete:disabled:hover {\n",
              "    background-color: var(--disabled-bg-color);\n",
              "    fill: var(--disabled-fill-color);\n",
              "    box-shadow: none;\n",
              "  }\n",
              "\n",
              "  .colab-df-spinner {\n",
              "    border: 2px solid var(--fill-color);\n",
              "    border-color: transparent;\n",
              "    border-bottom-color: var(--fill-color);\n",
              "    animation:\n",
              "      spin 1s steps(1) infinite;\n",
              "  }\n",
              "\n",
              "  @keyframes spin {\n",
              "    0% {\n",
              "      border-color: transparent;\n",
              "      border-bottom-color: var(--fill-color);\n",
              "      border-left-color: var(--fill-color);\n",
              "    }\n",
              "    20% {\n",
              "      border-color: transparent;\n",
              "      border-left-color: var(--fill-color);\n",
              "      border-top-color: var(--fill-color);\n",
              "    }\n",
              "    30% {\n",
              "      border-color: transparent;\n",
              "      border-left-color: var(--fill-color);\n",
              "      border-top-color: var(--fill-color);\n",
              "      border-right-color: var(--fill-color);\n",
              "    }\n",
              "    40% {\n",
              "      border-color: transparent;\n",
              "      border-right-color: var(--fill-color);\n",
              "      border-top-color: var(--fill-color);\n",
              "    }\n",
              "    60% {\n",
              "      border-color: transparent;\n",
              "      border-right-color: var(--fill-color);\n",
              "    }\n",
              "    80% {\n",
              "      border-color: transparent;\n",
              "      border-right-color: var(--fill-color);\n",
              "      border-bottom-color: var(--fill-color);\n",
              "    }\n",
              "    90% {\n",
              "      border-color: transparent;\n",
              "      border-bottom-color: var(--fill-color);\n",
              "    }\n",
              "  }\n",
              "</style>\n",
              "\n",
              "  <script>\n",
              "    async function quickchart(key) {\n",
              "      const quickchartButtonEl =\n",
              "        document.querySelector('#' + key + ' button');\n",
              "      quickchartButtonEl.disabled = true;  // To prevent multiple clicks.\n",
              "      quickchartButtonEl.classList.add('colab-df-spinner');\n",
              "      try {\n",
              "        const charts = await google.colab.kernel.invokeFunction(\n",
              "            'suggestCharts', [key], {});\n",
              "      } catch (error) {\n",
              "        console.error('Error during call to suggestCharts:', error);\n",
              "      }\n",
              "      quickchartButtonEl.classList.remove('colab-df-spinner');\n",
              "      quickchartButtonEl.classList.add('colab-df-quickchart-complete');\n",
              "    }\n",
              "    (() => {\n",
              "      let quickchartButtonEl =\n",
              "        document.querySelector('#df-68e2990e-2384-4d9f-9de9-1273f5abe760 button');\n",
              "      quickchartButtonEl.style.display =\n",
              "        google.colab.kernel.accessAllowed ? 'block' : 'none';\n",
              "    })();\n",
              "  </script>\n",
              "</div>\n",
              "\n",
              "    </div>\n",
              "  </div>\n"
            ]
          },
          "metadata": {},
          "execution_count": 23
        }
      ],
      "source": [
        "data = pd.read_csv('/content/drive/MyDrive/Train.csv')\n",
        "data.head()"
      ]
    },
    {
      "cell_type": "markdown",
      "source": [
        "# **preprocessing**"
      ],
      "metadata": {
        "id": "n7gOVfQZOEdD"
      },
      "id": "n7gOVfQZOEdD"
    },
    {
      "cell_type": "code",
      "execution_count": 24,
      "id": "a708e55d-c81f-4340-b893-03a036b67e7b",
      "metadata": {
        "colab": {
          "base_uri": "https://localhost:8080/"
        },
        "id": "a708e55d-c81f-4340-b893-03a036b67e7b",
        "outputId": "88e8ff89-1701-4885-8014-5a7f36818e88"
      },
      "outputs": [
        {
          "output_type": "stream",
          "name": "stdout",
          "text": [
            "Class distribution before undersampling:\n",
            "0    20019\n",
            "1    19981\n",
            "Name: label, dtype: int64\n"
          ]
        }
      ],
      "source": [
        "class_counts = data['label'].value_counts()\n",
        "print(\"Class distribution before undersampling:\")\n",
        "print(class_counts)"
      ]
    },
    {
      "cell_type": "code",
      "execution_count": 25,
      "id": "4552e656-c28e-44f1-8919-a4a3cc96d5e0",
      "metadata": {
        "id": "4552e656-c28e-44f1-8919-a4a3cc96d5e0"
      },
      "outputs": [],
      "source": [
        "under_sampler = RandomUnderSampler(sampling_strategy={0: 2000, 1: 2000}, random_state=42)\n",
        "X_resampled, y_resampled = under_sampler.fit_resample(data.drop('label', axis=1), data['label'])"
      ]
    },
    {
      "cell_type": "code",
      "execution_count": 26,
      "id": "e6b6a4e3-b744-4651-811d-afab3ccf075a",
      "metadata": {
        "id": "e6b6a4e3-b744-4651-811d-afab3ccf075a"
      },
      "outputs": [],
      "source": [
        "df = pd.DataFrame(X_resampled, columns=data.columns[:-1])\n",
        "df['label'] = y_resampled"
      ]
    },
    {
      "cell_type": "code",
      "execution_count": 27,
      "id": "079ae51a-d3f2-4509-ba5e-6f5ccf66affd",
      "metadata": {
        "colab": {
          "base_uri": "https://localhost:8080/",
          "height": 206
        },
        "id": "079ae51a-d3f2-4509-ba5e-6f5ccf66affd",
        "outputId": "f990e5b3-a2b9-48fc-a462-4342b56ea790"
      },
      "outputs": [
        {
          "output_type": "execute_result",
          "data": {
            "text/plain": [
              "                                                text  label\n",
              "0  I went to see this movie with the most positiv...      0\n",
              "1  I was not expecting a classic, but at least a ...      0\n",
              "2  As a Mystery Science Theatre 3000 fan, I can w...      0\n",
              "3  A couple move into their dream home, unaware t...      0\n",
              "4  Ever wonder why Pacific Islanders seem to auto...      0"
            ],
            "text/html": [
              "\n",
              "  <div id=\"df-132c3dc4-368e-4939-ad3e-06f43376dcbb\" class=\"colab-df-container\">\n",
              "    <div>\n",
              "<style scoped>\n",
              "    .dataframe tbody tr th:only-of-type {\n",
              "        vertical-align: middle;\n",
              "    }\n",
              "\n",
              "    .dataframe tbody tr th {\n",
              "        vertical-align: top;\n",
              "    }\n",
              "\n",
              "    .dataframe thead th {\n",
              "        text-align: right;\n",
              "    }\n",
              "</style>\n",
              "<table border=\"1\" class=\"dataframe\">\n",
              "  <thead>\n",
              "    <tr style=\"text-align: right;\">\n",
              "      <th></th>\n",
              "      <th>text</th>\n",
              "      <th>label</th>\n",
              "    </tr>\n",
              "  </thead>\n",
              "  <tbody>\n",
              "    <tr>\n",
              "      <th>0</th>\n",
              "      <td>I went to see this movie with the most positiv...</td>\n",
              "      <td>0</td>\n",
              "    </tr>\n",
              "    <tr>\n",
              "      <th>1</th>\n",
              "      <td>I was not expecting a classic, but at least a ...</td>\n",
              "      <td>0</td>\n",
              "    </tr>\n",
              "    <tr>\n",
              "      <th>2</th>\n",
              "      <td>As a Mystery Science Theatre 3000 fan, I can w...</td>\n",
              "      <td>0</td>\n",
              "    </tr>\n",
              "    <tr>\n",
              "      <th>3</th>\n",
              "      <td>A couple move into their dream home, unaware t...</td>\n",
              "      <td>0</td>\n",
              "    </tr>\n",
              "    <tr>\n",
              "      <th>4</th>\n",
              "      <td>Ever wonder why Pacific Islanders seem to auto...</td>\n",
              "      <td>0</td>\n",
              "    </tr>\n",
              "  </tbody>\n",
              "</table>\n",
              "</div>\n",
              "    <div class=\"colab-df-buttons\">\n",
              "\n",
              "  <div class=\"colab-df-container\">\n",
              "    <button class=\"colab-df-convert\" onclick=\"convertToInteractive('df-132c3dc4-368e-4939-ad3e-06f43376dcbb')\"\n",
              "            title=\"Convert this dataframe to an interactive table.\"\n",
              "            style=\"display:none;\">\n",
              "\n",
              "  <svg xmlns=\"http://www.w3.org/2000/svg\" height=\"24px\" viewBox=\"0 -960 960 960\">\n",
              "    <path d=\"M120-120v-720h720v720H120Zm60-500h600v-160H180v160Zm220 220h160v-160H400v160Zm0 220h160v-160H400v160ZM180-400h160v-160H180v160Zm440 0h160v-160H620v160ZM180-180h160v-160H180v160Zm440 0h160v-160H620v160Z\"/>\n",
              "  </svg>\n",
              "    </button>\n",
              "\n",
              "  <style>\n",
              "    .colab-df-container {\n",
              "      display:flex;\n",
              "      gap: 12px;\n",
              "    }\n",
              "\n",
              "    .colab-df-convert {\n",
              "      background-color: #E8F0FE;\n",
              "      border: none;\n",
              "      border-radius: 50%;\n",
              "      cursor: pointer;\n",
              "      display: none;\n",
              "      fill: #1967D2;\n",
              "      height: 32px;\n",
              "      padding: 0 0 0 0;\n",
              "      width: 32px;\n",
              "    }\n",
              "\n",
              "    .colab-df-convert:hover {\n",
              "      background-color: #E2EBFA;\n",
              "      box-shadow: 0px 1px 2px rgba(60, 64, 67, 0.3), 0px 1px 3px 1px rgba(60, 64, 67, 0.15);\n",
              "      fill: #174EA6;\n",
              "    }\n",
              "\n",
              "    .colab-df-buttons div {\n",
              "      margin-bottom: 4px;\n",
              "    }\n",
              "\n",
              "    [theme=dark] .colab-df-convert {\n",
              "      background-color: #3B4455;\n",
              "      fill: #D2E3FC;\n",
              "    }\n",
              "\n",
              "    [theme=dark] .colab-df-convert:hover {\n",
              "      background-color: #434B5C;\n",
              "      box-shadow: 0px 1px 3px 1px rgba(0, 0, 0, 0.15);\n",
              "      filter: drop-shadow(0px 1px 2px rgba(0, 0, 0, 0.3));\n",
              "      fill: #FFFFFF;\n",
              "    }\n",
              "  </style>\n",
              "\n",
              "    <script>\n",
              "      const buttonEl =\n",
              "        document.querySelector('#df-132c3dc4-368e-4939-ad3e-06f43376dcbb button.colab-df-convert');\n",
              "      buttonEl.style.display =\n",
              "        google.colab.kernel.accessAllowed ? 'block' : 'none';\n",
              "\n",
              "      async function convertToInteractive(key) {\n",
              "        const element = document.querySelector('#df-132c3dc4-368e-4939-ad3e-06f43376dcbb');\n",
              "        const dataTable =\n",
              "          await google.colab.kernel.invokeFunction('convertToInteractive',\n",
              "                                                    [key], {});\n",
              "        if (!dataTable) return;\n",
              "\n",
              "        const docLinkHtml = 'Like what you see? Visit the ' +\n",
              "          '<a target=\"_blank\" href=https://colab.research.google.com/notebooks/data_table.ipynb>data table notebook</a>'\n",
              "          + ' to learn more about interactive tables.';\n",
              "        element.innerHTML = '';\n",
              "        dataTable['output_type'] = 'display_data';\n",
              "        await google.colab.output.renderOutput(dataTable, element);\n",
              "        const docLink = document.createElement('div');\n",
              "        docLink.innerHTML = docLinkHtml;\n",
              "        element.appendChild(docLink);\n",
              "      }\n",
              "    </script>\n",
              "  </div>\n",
              "\n",
              "\n",
              "<div id=\"df-7a6e9db1-844b-434a-b450-0b034890c1a6\">\n",
              "  <button class=\"colab-df-quickchart\" onclick=\"quickchart('df-7a6e9db1-844b-434a-b450-0b034890c1a6')\"\n",
              "            title=\"Suggest charts\"\n",
              "            style=\"display:none;\">\n",
              "\n",
              "<svg xmlns=\"http://www.w3.org/2000/svg\" height=\"24px\"viewBox=\"0 0 24 24\"\n",
              "     width=\"24px\">\n",
              "    <g>\n",
              "        <path d=\"M19 3H5c-1.1 0-2 .9-2 2v14c0 1.1.9 2 2 2h14c1.1 0 2-.9 2-2V5c0-1.1-.9-2-2-2zM9 17H7v-7h2v7zm4 0h-2V7h2v10zm4 0h-2v-4h2v4z\"/>\n",
              "    </g>\n",
              "</svg>\n",
              "  </button>\n",
              "\n",
              "<style>\n",
              "  .colab-df-quickchart {\n",
              "      --bg-color: #E8F0FE;\n",
              "      --fill-color: #1967D2;\n",
              "      --hover-bg-color: #E2EBFA;\n",
              "      --hover-fill-color: #174EA6;\n",
              "      --disabled-fill-color: #AAA;\n",
              "      --disabled-bg-color: #DDD;\n",
              "  }\n",
              "\n",
              "  [theme=dark] .colab-df-quickchart {\n",
              "      --bg-color: #3B4455;\n",
              "      --fill-color: #D2E3FC;\n",
              "      --hover-bg-color: #434B5C;\n",
              "      --hover-fill-color: #FFFFFF;\n",
              "      --disabled-bg-color: #3B4455;\n",
              "      --disabled-fill-color: #666;\n",
              "  }\n",
              "\n",
              "  .colab-df-quickchart {\n",
              "    background-color: var(--bg-color);\n",
              "    border: none;\n",
              "    border-radius: 50%;\n",
              "    cursor: pointer;\n",
              "    display: none;\n",
              "    fill: var(--fill-color);\n",
              "    height: 32px;\n",
              "    padding: 0;\n",
              "    width: 32px;\n",
              "  }\n",
              "\n",
              "  .colab-df-quickchart:hover {\n",
              "    background-color: var(--hover-bg-color);\n",
              "    box-shadow: 0 1px 2px rgba(60, 64, 67, 0.3), 0 1px 3px 1px rgba(60, 64, 67, 0.15);\n",
              "    fill: var(--button-hover-fill-color);\n",
              "  }\n",
              "\n",
              "  .colab-df-quickchart-complete:disabled,\n",
              "  .colab-df-quickchart-complete:disabled:hover {\n",
              "    background-color: var(--disabled-bg-color);\n",
              "    fill: var(--disabled-fill-color);\n",
              "    box-shadow: none;\n",
              "  }\n",
              "\n",
              "  .colab-df-spinner {\n",
              "    border: 2px solid var(--fill-color);\n",
              "    border-color: transparent;\n",
              "    border-bottom-color: var(--fill-color);\n",
              "    animation:\n",
              "      spin 1s steps(1) infinite;\n",
              "  }\n",
              "\n",
              "  @keyframes spin {\n",
              "    0% {\n",
              "      border-color: transparent;\n",
              "      border-bottom-color: var(--fill-color);\n",
              "      border-left-color: var(--fill-color);\n",
              "    }\n",
              "    20% {\n",
              "      border-color: transparent;\n",
              "      border-left-color: var(--fill-color);\n",
              "      border-top-color: var(--fill-color);\n",
              "    }\n",
              "    30% {\n",
              "      border-color: transparent;\n",
              "      border-left-color: var(--fill-color);\n",
              "      border-top-color: var(--fill-color);\n",
              "      border-right-color: var(--fill-color);\n",
              "    }\n",
              "    40% {\n",
              "      border-color: transparent;\n",
              "      border-right-color: var(--fill-color);\n",
              "      border-top-color: var(--fill-color);\n",
              "    }\n",
              "    60% {\n",
              "      border-color: transparent;\n",
              "      border-right-color: var(--fill-color);\n",
              "    }\n",
              "    80% {\n",
              "      border-color: transparent;\n",
              "      border-right-color: var(--fill-color);\n",
              "      border-bottom-color: var(--fill-color);\n",
              "    }\n",
              "    90% {\n",
              "      border-color: transparent;\n",
              "      border-bottom-color: var(--fill-color);\n",
              "    }\n",
              "  }\n",
              "</style>\n",
              "\n",
              "  <script>\n",
              "    async function quickchart(key) {\n",
              "      const quickchartButtonEl =\n",
              "        document.querySelector('#' + key + ' button');\n",
              "      quickchartButtonEl.disabled = true;  // To prevent multiple clicks.\n",
              "      quickchartButtonEl.classList.add('colab-df-spinner');\n",
              "      try {\n",
              "        const charts = await google.colab.kernel.invokeFunction(\n",
              "            'suggestCharts', [key], {});\n",
              "      } catch (error) {\n",
              "        console.error('Error during call to suggestCharts:', error);\n",
              "      }\n",
              "      quickchartButtonEl.classList.remove('colab-df-spinner');\n",
              "      quickchartButtonEl.classList.add('colab-df-quickchart-complete');\n",
              "    }\n",
              "    (() => {\n",
              "      let quickchartButtonEl =\n",
              "        document.querySelector('#df-7a6e9db1-844b-434a-b450-0b034890c1a6 button');\n",
              "      quickchartButtonEl.style.display =\n",
              "        google.colab.kernel.accessAllowed ? 'block' : 'none';\n",
              "    })();\n",
              "  </script>\n",
              "</div>\n",
              "\n",
              "    </div>\n",
              "  </div>\n"
            ]
          },
          "metadata": {},
          "execution_count": 27
        }
      ],
      "source": [
        "df.head()"
      ]
    },
    {
      "cell_type": "code",
      "execution_count": 28,
      "id": "09c32630-c5eb-45f3-8fda-9971fded4b14",
      "metadata": {
        "colab": {
          "base_uri": "https://localhost:8080/",
          "height": 406
        },
        "id": "09c32630-c5eb-45f3-8fda-9971fded4b14",
        "outputId": "4cf5d429-5895-4596-eeda-e6bf23ac8080"
      },
      "outputs": [
        {
          "output_type": "display_data",
          "data": {
            "text/plain": [
              "<Figure size 640x480 with 1 Axes>"
            ],
            "image/png": "[encoded data removed]"
          },
          "metadata": {}
        }
      ],
      "source": [
        "plt.bar(list(set(list(df.label))),list(df.label.value_counts()), color='skyblue')\n",
        "plt.axis('off')\n",
        "plt.show()"
      ]
    },
    {
      "cell_type": "code",
      "execution_count": 29,
      "id": "9c204c9e-43fc-4ce6-a9be-cb943b15d992",
      "metadata": {
        "colab": {
          "base_uri": "https://localhost:8080/"
        },
        "id": "9c204c9e-43fc-4ce6-a9be-cb943b15d992",
        "outputId": "da6610ff-9dc1-48b9-e1f5-f73464f1d08a"
      },
      "outputs": [
        {
          "output_type": "stream",
          "name": "stdout",
          "text": [
            "I wentoshimvpxca.dJqu'r(fg)yH,lMbLNOTGk\"ABWS:-jY</>PE3D0RV!45?61298FZ*CK`z;é+U&=7$~Q%_Xóá£í´ë#à{}★ùè ü^öŻ[]úä’êÅåâñ½\t\\çãïÀ¤@îô°ý¨¾\n"
          ]
        }
      ],
      "source": [
        "tokens = ''\n",
        "for i in list(df.text):\n",
        "    for j in i:\n",
        "        if j not in tokens:\n",
        "            tokens += j\n",
        "\n",
        "print(tokens)"
      ]
    },
    {
      "cell_type": "markdown",
      "source": [
        "# COnverting text into **vectors**"
      ],
      "metadata": {
        "id": "7en4ok8lOJ5C"
      },
      "id": "7en4ok8lOJ5C"
    },
    {
      "cell_type": "code",
      "execution_count": 31,
      "id": "808c6293-6ffe-45df-b078-ce9ab5d5eed7",
      "metadata": {
        "id": "808c6293-6ffe-45df-b078-ce9ab5d5eed7"
      },
      "outputs": [],
      "source": [
        "nlp = spacy.load('en_core_web_sm')"
      ]
    },
    {
      "cell_type": "code",
      "execution_count": 32,
      "id": "72981f30-05c3-45c4-92c3-acf53af778db",
      "metadata": {
        "id": "72981f30-05c3-45c4-92c3-acf53af778db"
      },
      "outputs": [],
      "source": [
        "def preprocess(text):\n",
        "    L = []\n",
        "    doc = nlp(text)\n",
        "    #L = [x.text for x in doc if not x.is_stop or not x.is_punct]\n",
        "    for token in doc:\n",
        "        if token.is_stop or token.is_punct:\n",
        "            continue\n",
        "        else:\n",
        "             L.append(token.text)\n",
        "    return \" \".join(L).lower()\n"
      ]
    },
    {
      "cell_type": "code",
      "execution_count": 33,
      "id": "78aa7d89-9a7b-40b7-b182-ce5eb5b2a4b1",
      "metadata": {
        "id": "78aa7d89-9a7b-40b7-b182-ce5eb5b2a4b1"
      },
      "outputs": [],
      "source": [
        "df['preprocessed'] = df.text.apply(lambda x : preprocess(x))"
      ]
    },
    {
      "cell_type": "code",
      "source": [
        "def num_vec(text):\n",
        "    doc = nlp(text)\n",
        "    return doc.vector"
      ],
      "metadata": {
        "id": "H-Zan1otVjwt"
      },
      "id": "H-Zan1otVjwt",
      "execution_count": 34,
      "outputs": []
    },
    {
      "cell_type": "code",
      "source": [
        "df['X'] = df.preprocessed.apply(lambda x : num_vec(x))"
      ],
      "metadata": {
        "id": "ocmZm6r3Vvt2"
      },
      "id": "ocmZm6r3Vvt2",
      "execution_count": 35,
      "outputs": []
    },
    {
      "cell_type": "code",
      "execution_count": 36,
      "id": "d34e9218-68bf-40e1-b855-36e7f70ff627",
      "metadata": {
        "colab": {
          "base_uri": "https://localhost:8080/",
          "height": 223
        },
        "id": "d34e9218-68bf-40e1-b855-36e7f70ff627",
        "outputId": "a7903e87-2139-4267-d902-02f82ff94fc3"
      },
      "outputs": [
        {
          "output_type": "execute_result",
          "data": {
            "text/plain": [
              "                                                text  label  \\\n",
              "0  I went to see this movie with the most positiv...      0   \n",
              "1  I was not expecting a classic, but at least a ...      0   \n",
              "2  As a Mystery Science Theatre 3000 fan, I can w...      0   \n",
              "3  A couple move into their dream home, unaware t...      0   \n",
              "4  Ever wonder why Pacific Islanders seem to auto...      0   \n",
              "\n",
              "                                        preprocessed  \\\n",
              "0  went movie positive expectations seen jacquet ...   \n",
              "1  expecting classic funny film scenes makes laug...   \n",
              "2  mystery science theatre 3000 fan withstand mot...   \n",
              "3  couple dream home unaware neighbours built lan...   \n",
              "4  wonder pacific islanders automatically assume ...   \n",
              "\n",
              "                                                   X  \n",
              "0  [0.18040219, -0.18688156, -0.055014715, 0.0619...  \n",
              "1  [-0.011916071, -0.45923182, -0.08680493, 0.114...  \n",
              "2  [-0.07585683, -0.29758605, -0.07403976, 0.2032...  \n",
              "3  [0.19472545, -0.22533256, 0.050597675, 0.06596...  \n",
              "4  [0.1080412, -0.30727592, -0.011045225, 0.20556...  "
            ],
            "text/html": [
              "\n",
              "  <div id=\"df-180604ca-a118-441b-b4eb-ce2e27613d65\" class=\"colab-df-container\">\n",
              "    <div>\n",
              "<style scoped>\n",
              "    .dataframe tbody tr th:only-of-type {\n",
              "        vertical-align: middle;\n",
              "    }\n",
              "\n",
              "    .dataframe tbody tr th {\n",
              "        vertical-align: top;\n",
              "    }\n",
              "\n",
              "    .dataframe thead th {\n",
              "        text-align: right;\n",
              "    }\n",
              "</style>\n",
              "<table border=\"1\" class=\"dataframe\">\n",
              "  <thead>\n",
              "    <tr style=\"text-align: right;\">\n",
              "      <th></th>\n",
              "      <th>text</th>\n",
              "      <th>label</th>\n",
              "      <th>preprocessed</th>\n",
              "      <th>X</th>\n",
              "    </tr>\n",
              "  </thead>\n",
              "  <tbody>\n",
              "    <tr>\n",
              "      <th>0</th>\n",
              "      <td>I went to see this movie with the most positiv...</td>\n",
              "      <td>0</td>\n",
              "      <td>went movie positive expectations seen jacquet ...</td>\n",
              "      <td>[0.18040219, -0.18688156, -0.055014715, 0.0619...</td>\n",
              "    </tr>\n",
              "    <tr>\n",
              "      <th>1</th>\n",
              "      <td>I was not expecting a classic, but at least a ...</td>\n",
              "      <td>0</td>\n",
              "      <td>expecting classic funny film scenes makes laug...</td>\n",
              "      <td>[-0.011916071, -0.45923182, -0.08680493, 0.114...</td>\n",
              "    </tr>\n",
              "    <tr>\n",
              "      <th>2</th>\n",
              "      <td>As a Mystery Science Theatre 3000 fan, I can w...</td>\n",
              "      <td>0</td>\n",
              "      <td>mystery science theatre 3000 fan withstand mot...</td>\n",
              "      <td>[-0.07585683, -0.29758605, -0.07403976, 0.2032...</td>\n",
              "    </tr>\n",
              "    <tr>\n",
              "      <th>3</th>\n",
              "      <td>A couple move into their dream home, unaware t...</td>\n",
              "      <td>0</td>\n",
              "      <td>couple dream home unaware neighbours built lan...</td>\n",
              "      <td>[0.19472545, -0.22533256, 0.050597675, 0.06596...</td>\n",
              "    </tr>\n",
              "    <tr>\n",
              "      <th>4</th>\n",
              "      <td>Ever wonder why Pacific Islanders seem to auto...</td>\n",
              "      <td>0</td>\n",
              "      <td>wonder pacific islanders automatically assume ...</td>\n",
              "      <td>[0.1080412, -0.30727592, -0.011045225, 0.20556...</td>\n",
              "    </tr>\n",
              "  </tbody>\n",
              "</table>\n",
              "</div>\n",
              "    <div class=\"colab-df-buttons\">\n",
              "\n",
              "  <div class=\"colab-df-container\">\n",
              "    <button class=\"colab-df-convert\" onclick=\"convertToInteractive('df-180604ca-a118-441b-b4eb-ce2e27613d65')\"\n",
              "            title=\"Convert this dataframe to an interactive table.\"\n",
              "            style=\"display:none;\">\n",
              "\n",
              "  <svg xmlns=\"http://www.w3.org/2000/svg\" height=\"24px\" viewBox=\"0 -960 960 960\">\n",
              "    <path d=\"M120-120v-720h720v720H120Zm60-500h600v-160H180v160Zm220 220h160v-160H400v160Zm0 220h160v-160H400v160ZM180-400h160v-160H180v160Zm440 0h160v-160H620v160ZM180-180h160v-160H180v160Zm440 0h160v-160H620v160Z\"/>\n",
              "  </svg>\n",
              "    </button>\n",
              "\n",
              "  <style>\n",
              "    .colab-df-container {\n",
              "      display:flex;\n",
              "      gap: 12px;\n",
              "    }\n",
              "\n",
              "    .colab-df-convert {\n",
              "      background-color: #E8F0FE;\n",
              "      border: none;\n",
              "      border-radius: 50%;\n",
              "      cursor: pointer;\n",
              "      display: none;\n",
              "      fill: #1967D2;\n",
              "      height: 32px;\n",
              "      padding: 0 0 0 0;\n",
              "      width: 32px;\n",
              "    }\n",
              "\n",
              "    .colab-df-convert:hover {\n",
              "      background-color: #E2EBFA;\n",
              "      box-shadow: 0px 1px 2px rgba(60, 64, 67, 0.3), 0px 1px 3px 1px rgba(60, 64, 67, 0.15);\n",
              "      fill: #174EA6;\n",
              "    }\n",
              "\n",
              "    .colab-df-buttons div {\n",
              "      margin-bottom: 4px;\n",
              "    }\n",
              "\n",
              "    [theme=dark] .colab-df-convert {\n",
              "      background-color: #3B4455;\n",
              "      fill: #D2E3FC;\n",
              "    }\n",
              "\n",
              "    [theme=dark] .colab-df-convert:hover {\n",
              "      background-color: #434B5C;\n",
              "      box-shadow: 0px 1px 3px 1px rgba(0, 0, 0, 0.15);\n",
              "      filter: drop-shadow(0px 1px 2px rgba(0, 0, 0, 0.3));\n",
              "      fill: #FFFFFF;\n",
              "    }\n",
              "  </style>\n",
              "\n",
              "    <script>\n",
              "      const buttonEl =\n",
              "        document.querySelector('#df-180604ca-a118-441b-b4eb-ce2e27613d65 button.colab-df-convert');\n",
              "      buttonEl.style.display =\n",
              "        google.colab.kernel.accessAllowed ? 'block' : 'none';\n",
              "\n",
              "      async function convertToInteractive(key) {\n",
              "        const element = document.querySelector('#df-180604ca-a118-441b-b4eb-ce2e27613d65');\n",
              "        const dataTable =\n",
              "          await google.colab.kernel.invokeFunction('convertToInteractive',\n",
              "                                                    [key], {});\n",
              "        if (!dataTable) return;\n",
              "\n",
              "        const docLinkHtml = 'Like what you see? Visit the ' +\n",
              "          '<a target=\"_blank\" href=https://colab.research.google.com/notebooks/data_table.ipynb>data table notebook</a>'\n",
              "          + ' to learn more about interactive tables.';\n",
              "        element.innerHTML = '';\n",
              "        dataTable['output_type'] = 'display_data';\n",
              "        await google.colab.output.renderOutput(dataTable, element);\n",
              "        const docLink = document.createElement('div');\n",
              "        docLink.innerHTML = docLinkHtml;\n",
              "        element.appendChild(docLink);\n",
              "      }\n",
              "    </script>\n",
              "  </div>\n",
              "\n",
              "\n",
              "<div id=\"df-5257b269-aafe-41f4-9904-8cf0df24da93\">\n",
              "  <button class=\"colab-df-quickchart\" onclick=\"quickchart('df-5257b269-aafe-41f4-9904-8cf0df24da93')\"\n",
              "            title=\"Suggest charts\"\n",
              "            style=\"display:none;\">\n",
              "\n",
              "<svg xmlns=\"http://www.w3.org/2000/svg\" height=\"24px\"viewBox=\"0 0 24 24\"\n",
              "     width=\"24px\">\n",
              "    <g>\n",
              "        <path d=\"M19 3H5c-1.1 0-2 .9-2 2v14c0 1.1.9 2 2 2h14c1.1 0 2-.9 2-2V5c0-1.1-.9-2-2-2zM9 17H7v-7h2v7zm4 0h-2V7h2v10zm4 0h-2v-4h2v4z\"/>\n",
              "    </g>\n",
              "</svg>\n",
              "  </button>\n",
              "\n",
              "<style>\n",
              "  .colab-df-quickchart {\n",
              "      --bg-color: #E8F0FE;\n",
              "      --fill-color: #1967D2;\n",
              "      --hover-bg-color: #E2EBFA;\n",
              "      --hover-fill-color: #174EA6;\n",
              "      --disabled-fill-color: #AAA;\n",
              "      --disabled-bg-color: #DDD;\n",
              "  }\n",
              "\n",
              "  [theme=dark] .colab-df-quickchart {\n",
              "      --bg-color: #3B4455;\n",
              "      --fill-color: #D2E3FC;\n",
              "      --hover-bg-color: #434B5C;\n",
              "      --hover-fill-color: #FFFFFF;\n",
              "      --disabled-bg-color: #3B4455;\n",
              "      --disabled-fill-color: #666;\n",
              "  }\n",
              "\n",
              "  .colab-df-quickchart {\n",
              "    background-color: var(--bg-color);\n",
              "    border: none;\n",
              "    border-radius: 50%;\n",
              "    cursor: pointer;\n",
              "    display: none;\n",
              "    fill: var(--fill-color);\n",
              "    height: 32px;\n",
              "    padding: 0;\n",
              "    width: 32px;\n",
              "  }\n",
              "\n",
              "  .colab-df-quickchart:hover {\n",
              "    background-color: var(--hover-bg-color);\n",
              "    box-shadow: 0 1px 2px rgba(60, 64, 67, 0.3), 0 1px 3px 1px rgba(60, 64, 67, 0.15);\n",
              "    fill: var(--button-hover-fill-color);\n",
              "  }\n",
              "\n",
              "  .colab-df-quickchart-complete:disabled,\n",
              "  .colab-df-quickchart-complete:disabled:hover {\n",
              "    background-color: var(--disabled-bg-color);\n",
              "    fill: var(--disabled-fill-color);\n",
              "    box-shadow: none;\n",
              "  }\n",
              "\n",
              "  .colab-df-spinner {\n",
              "    border: 2px solid var(--fill-color);\n",
              "    border-color: transparent;\n",
              "    border-bottom-color: var(--fill-color);\n",
              "    animation:\n",
              "      spin 1s steps(1) infinite;\n",
              "  }\n",
              "\n",
              "  @keyframes spin {\n",
              "    0% {\n",
              "      border-color: transparent;\n",
              "      border-bottom-color: var(--fill-color);\n",
              "      border-left-color: var(--fill-color);\n",
              "    }\n",
              "    20% {\n",
              "      border-color: transparent;\n",
              "      border-left-color: var(--fill-color);\n",
              "      border-top-color: var(--fill-color);\n",
              "    }\n",
              "    30% {\n",
              "      border-color: transparent;\n",
              "      border-left-color: var(--fill-color);\n",
              "      border-top-color: var(--fill-color);\n",
              "      border-right-color: var(--fill-color);\n",
              "    }\n",
              "    40% {\n",
              "      border-color: transparent;\n",
              "      border-right-color: var(--fill-color);\n",
              "      border-top-color: var(--fill-color);\n",
              "    }\n",
              "    60% {\n",
              "      border-color: transparent;\n",
              "      border-right-color: var(--fill-color);\n",
              "    }\n",
              "    80% {\n",
              "      border-color: transparent;\n",
              "      border-right-color: var(--fill-color);\n",
              "      border-bottom-color: var(--fill-color);\n",
              "    }\n",
              "    90% {\n",
              "      border-color: transparent;\n",
              "      border-bottom-color: var(--fill-color);\n",
              "    }\n",
              "  }\n",
              "</style>\n",
              "\n",
              "  <script>\n",
              "    async function quickchart(key) {\n",
              "      const quickchartButtonEl =\n",
              "        document.querySelector('#' + key + ' button');\n",
              "      quickchartButtonEl.disabled = true;  // To prevent multiple clicks.\n",
              "      quickchartButtonEl.classList.add('colab-df-spinner');\n",
              "      try {\n",
              "        const charts = await google.colab.kernel.invokeFunction(\n",
              "            'suggestCharts', [key], {});\n",
              "      } catch (error) {\n",
              "        console.error('Error during call to suggestCharts:', error);\n",
              "      }\n",
              "      quickchartButtonEl.classList.remove('colab-df-spinner');\n",
              "      quickchartButtonEl.classList.add('colab-df-quickchart-complete');\n",
              "    }\n",
              "    (() => {\n",
              "      let quickchartButtonEl =\n",
              "        document.querySelector('#df-5257b269-aafe-41f4-9904-8cf0df24da93 button');\n",
              "      quickchartButtonEl.style.display =\n",
              "        google.colab.kernel.accessAllowed ? 'block' : 'none';\n",
              "    })();\n",
              "  </script>\n",
              "</div>\n",
              "\n",
              "    </div>\n",
              "  </div>\n"
            ]
          },
          "metadata": {},
          "execution_count": 36
        }
      ],
      "source": [
        "df.head()"
      ]
    },
    {
      "cell_type": "markdown",
      "source": [
        "# **Splitting the Data**"
      ],
      "metadata": {
        "id": "HEXwPRmwOO9m"
      },
      "id": "HEXwPRmwOO9m"
    },
    {
      "cell_type": "code",
      "execution_count": 37,
      "id": "8bde1a94-b8c2-4309-9ed7-e99bc741bc48",
      "metadata": {
        "colab": {
          "base_uri": "https://localhost:8080/"
        },
        "id": "8bde1a94-b8c2-4309-9ed7-e99bc741bc48",
        "outputId": "e606ea6f-a7ef-4d8f-89e9-ca2ffd05170c"
      },
      "outputs": [
        {
          "output_type": "execute_result",
          "data": {
            "text/plain": [
              "array([array([ 0.10398328, -0.15188166,  0.05347227,  0.12147365, -0.02237156,\n",
              "              -0.16497171,  0.41451415,  0.16437177,  0.2350851 , -0.4969413 ,\n",
              "               0.05273545, -0.25588748, -0.3612412 , -0.4716115 , -0.08678254,\n",
              "               0.4951212 , -0.2967586 , -0.12683795, -0.35043478, -0.06945903,\n",
              "               0.02885358,  0.6036613 , -0.34779474, -0.07554684,  0.23298179,\n",
              "              -0.09317896,  0.30469587,  0.5531547 ,  0.35935012, -0.31991953,\n",
              "               0.10112665, -0.12491658, -0.34474617,  0.0644526 , -0.07984681,\n",
              "              -0.27959445,  0.24250497,  0.14896263,  0.1904739 , -0.04914473,\n",
              "              -0.3108107 ,  0.26137063, -0.10258575,  0.3030367 ,  0.3247788 ,\n",
              "              -0.15803859, -0.2566526 ,  0.16709547, -0.15465279, -0.03172447,\n",
              "              -0.7266754 ,  0.08210593, -0.2011502 , -0.81320894, -0.7297652 ,\n",
              "               0.5482854 ,  0.5725946 , -0.00299179, -0.31735358, -0.16081734,\n",
              "              -0.2962819 , -0.05077583, -0.03427852, -0.3281317 ,  0.04267638,\n",
              "              -0.26348135,  0.26853254,  0.21727958,  0.18573824,  0.01658433,\n",
              "               0.4424574 ,  0.29331902,  0.36460713, -0.48902282, -0.00621258,\n",
              "              -0.27034768, -0.13708414, -0.7696369 ,  0.1640974 , -0.7834873 ,\n",
              "              -0.1274109 ,  0.02371649, -0.3165198 ,  0.41884086,  0.18766432,\n",
              "               0.16601272,  0.04979809, -0.12612413, -0.5963225 ,  0.08823974,\n",
              "               0.10598204,  0.4037945 ,  0.92183053,  0.81848294, -0.02805605,\n",
              "               0.01403361], dtype=float32)                                    ,\n",
              "       array([ 0.04504849, -0.3302745 ,  0.02982483,  0.14217702,  0.03752766,\n",
              "               0.00264228,  0.1370368 ,  0.3146143 ,  0.29482287, -0.39148173,\n",
              "              -0.1245573 , -0.12335235, -0.42651448, -0.36003637, -0.1368253 ,\n",
              "               0.2591231 , -0.25950018, -0.26565284, -0.38640502, -0.31453124,\n",
              "              -0.08545524,  0.506116  , -0.17912377,  0.05673318,  0.01306555,\n",
              "              -0.19590323,  0.33845046,  0.55602247,  0.19017658,  0.08839668,\n",
              "               0.12309676,  0.06822231, -0.2378673 , -0.09321461,  0.08457726,\n",
              "              -0.14788322,  0.30865628, -0.09372921,  0.01539466, -0.14122765,\n",
              "              -0.49530187,  0.13312006, -0.07195614,  0.39854294,  0.07191843,\n",
              "              -0.09904352, -0.02977628, -0.02416139, -0.1071521 ,  0.13002251,\n",
              "              -0.61824363,  0.13256715, -0.02045497, -0.4213406 , -0.35885575,\n",
              "               0.32819283,  0.36402938,  0.06405184, -0.13997795, -0.07133783,\n",
              "              -0.17825797, -0.10094201, -0.02912831, -0.14462753,  0.02443355,\n",
              "              -0.04700988, -0.02938519,  0.08735765,  0.14004585, -0.18985502,\n",
              "               0.42466867,  0.29266977,  0.44634184, -0.27047986,  0.21340783,\n",
              "              -0.20988499, -0.0263508 , -0.60943156,  0.01517342, -0.57740813,\n",
              "              -0.1245243 , -0.19944358, -0.27442682,  0.24663815, -0.02291639,\n",
              "               0.18973511,  0.07584377, -0.07763915, -0.4895172 ,  0.26734555,\n",
              "               0.21267031,  0.05402635,  0.7591894 ,  0.74978656, -0.21225834,\n",
              "              -0.05810967], dtype=float32)                                    ,\n",
              "       array([ 1.88989975e-02, -2.64881879e-01, -7.56329333e-04,  3.99541110e-02,\n",
              "               9.96929109e-02, -1.82470709e-01,  2.70784467e-01,  4.42610383e-01,\n",
              "               2.91444063e-01, -1.68807879e-01,  9.22790617e-02, -1.79747064e-02,\n",
              "              -3.75073880e-01, -5.05958736e-01, -2.49036118e-01,  3.53359312e-01,\n",
              "              -4.48173344e-01, -1.72528878e-01, -5.36143839e-01, -1.33675784e-01,\n",
              "              -1.32705122e-01,  5.28464496e-01, -2.43423089e-01, -5.85695617e-02,\n",
              "               2.66687691e-01, -2.14465797e-01,  3.77740204e-01,  4.75489169e-01,\n",
              "               3.67608517e-01, -6.27376214e-02,  4.95752245e-02, -2.44414061e-01,\n",
              "              -3.44339699e-01,  1.10525623e-01, -4.99519370e-02, -1.12248421e-01,\n",
              "               2.27715179e-01, -2.41445582e-02, -1.23310164e-02, -2.03349903e-01,\n",
              "              -4.19762969e-01,  1.96488917e-01, -5.85818514e-02,  4.67196345e-01,\n",
              "               6.76390231e-02, -5.50972559e-02, -1.01191569e-02,  1.73074361e-02,\n",
              "              -2.05055580e-01,  2.47087047e-01, -4.51332062e-01,  1.50315493e-01,\n",
              "               1.72657743e-01, -3.55870843e-01, -5.24833441e-01,  1.92759424e-01,\n",
              "               3.89155388e-01, -1.00841008e-01, -2.84321196e-02, -6.38274625e-02,\n",
              "              -3.31283718e-01, -1.34566173e-01, -4.87687290e-02, -3.69731814e-01,\n",
              "              -9.78651196e-02, -1.19362146e-01, -1.53505746e-02,  1.44745290e-01,\n",
              "               2.38994345e-01, -2.38055810e-01,  5.77708304e-01,  3.62301856e-01,\n",
              "               4.89377737e-01, -5.61202824e-01,  1.66683525e-01, -7.65692815e-02,\n",
              "              -8.42278227e-02, -6.50817454e-01,  1.32697389e-01, -5.10749936e-01,\n",
              "               5.31616993e-02, -2.82739788e-01, -1.60059899e-01,  1.07340150e-01,\n",
              "              -8.31200108e-02,  3.21506523e-02,  1.14752144e-01, -1.41583428e-01,\n",
              "              -6.17976129e-01,  3.81514400e-01,  8.08562115e-02,  6.55594617e-02,\n",
              "               8.44400823e-01,  7.10566998e-01, -1.57234967e-01,  1.32722696e-02],\n",
              "             dtype=float32)                                                       ,\n",
              "       ...,\n",
              "       array([-3.62915769e-02, -4.68997896e-01, -6.51702471e-03,  3.52474928e-01,\n",
              "               6.07513301e-02, -2.42629603e-01,  3.19834918e-01,  6.50565684e-01,\n",
              "               4.70883101e-01, -9.86945257e-02,  1.78345203e-01, -3.77528183e-02,\n",
              "              -3.96010250e-01, -8.04932296e-01, -3.01473290e-01,  4.23532307e-01,\n",
              "              -2.67956227e-01, -1.04998112e-01, -6.19805217e-01, -2.63944715e-01,\n",
              "              -2.29258046e-01,  5.38230121e-01, -4.86554056e-01,  1.18320815e-01,\n",
              "               2.06084490e-01,  4.97635379e-02,  5.81339598e-01,  9.72593248e-01,\n",
              "               4.08803403e-01, -4.73015793e-02, -4.11545411e-02, -8.05404186e-02,\n",
              "              -3.01791400e-01,  2.42759392e-01, -8.81580338e-02, -4.42332655e-01,\n",
              "               2.97935277e-01,  2.05949634e-01, -2.07775593e-01, -1.92877427e-01,\n",
              "              -1.21279769e-01,  5.12929261e-02, -1.27586067e-01,  4.34748590e-01,\n",
              "              -7.09561333e-02, -4.74780239e-03,  1.89157516e-01,  2.77249306e-01,\n",
              "              -2.06536949e-01,  8.62705633e-02, -6.17998064e-01, -9.84977633e-02,\n",
              "               1.84389174e-01, -5.49326599e-01, -6.44400001e-01, -4.97536361e-02,\n",
              "               5.96413016e-01,  4.16770717e-03, -4.97912872e-04, -2.14799382e-02,\n",
              "              -2.69125462e-01, -8.36789981e-02, -4.16211188e-02, -1.76927999e-01,\n",
              "              -3.17124695e-01, -1.15694337e-01,  2.61438936e-01,  4.19377774e-01,\n",
              "               1.62108973e-01, -1.63443133e-01,  8.13471377e-01,  3.07627708e-01,\n",
              "               7.22268820e-01, -5.35598040e-01,  2.40854904e-01, -1.92248538e-01,\n",
              "              -1.96665436e-01, -9.13328111e-01,  8.26273412e-02, -8.65718126e-01,\n",
              "              -1.79572165e-01, -1.56278908e-01, -3.73311758e-01,  6.75550476e-02,\n",
              "              -1.08514678e-06, -7.05760643e-02, -2.99698848e-04, -2.69343555e-01,\n",
              "              -8.39150906e-01,  3.18064690e-01,  1.17860064e-01,  1.17890894e-01,\n",
              "               8.33666742e-01,  7.50119507e-01, -2.53040850e-01, -2.26671044e-02],\n",
              "             dtype=float32)                                                       ,\n",
              "       array([ 0.06237091, -0.45852947,  0.00951742,  0.17018291,  0.0618746 ,\n",
              "              -0.14941281,  0.32967648,  0.48617792,  0.28051695, -0.15088375,\n",
              "               0.02319819,  0.06169797, -0.48989686, -0.5990897 , -0.24372266,\n",
              "               0.3752519 , -0.27496207, -0.2050348 , -0.6152671 , -0.25584823,\n",
              "              -0.13876726,  0.65109307, -0.4410733 ,  0.05845371,  0.22964874,\n",
              "              -0.12461237,  0.47826198,  0.77306217,  0.28628913,  0.07180924,\n",
              "               0.04823336, -0.17911181, -0.32776067,  0.12886183, -0.13161916,\n",
              "              -0.33992073,  0.30588794,  0.14573087, -0.06111855, -0.32922995,\n",
              "              -0.20995829,  0.15355833, -0.09633666,  0.38866273,  0.02869526,\n",
              "               0.0110718 , -0.00173469,  0.20828386, -0.04987949,  0.07590518,\n",
              "              -0.578703  , -0.02937649,  0.16470252, -0.49086833, -0.64217246,\n",
              "               0.23403905,  0.49299994, -0.04458363, -0.11873323, -0.14650242,\n",
              "              -0.2634806 , -0.13657372, -0.11092063, -0.14221904, -0.14591885,\n",
              "              -0.18243644,  0.11375249,  0.33657685,  0.2836584 , -0.13279238,\n",
              "               0.8396028 ,  0.3712068 ,  0.55346936, -0.46522626,  0.16134518,\n",
              "              -0.3018724 , -0.03215592, -0.774944  ,  0.08542387, -0.8439006 ,\n",
              "              -0.11978   , -0.18012044, -0.36504486,  0.12867673,  0.04619593,\n",
              "              -0.03663513,  0.15090568, -0.2164513 , -0.77069455,  0.35571235,\n",
              "               0.16875418,  0.14656936,  0.7669044 ,  0.7939109 , -0.20435436,\n",
              "               0.05583095], dtype=float32)                                    ,\n",
              "       array([-0.11499584, -0.53279406,  0.05319214,  0.24324764, -0.01944805,\n",
              "              -0.29048803,  0.34656286,  0.6754442 ,  0.39599192,  0.09932048,\n",
              "               0.30685467,  0.24935494, -0.54863006, -0.72239655, -0.34563172,\n",
              "               0.28131562, -0.44994187, -0.16281413, -0.59047395, -0.29092717,\n",
              "              -0.3927638 ,  0.57695395, -0.462441  ,  0.19758509,  0.30930895,\n",
              "               0.14763911,  0.4932857 ,  0.6789913 ,  0.13761713,  0.06765569,\n",
              "              -0.15078522, -0.28751016, -0.2822838 ,  0.38231185, -0.26235408,\n",
              "              -0.51213574,  0.4392344 ,  0.07732882, -0.32252082, -0.31640136,\n",
              "              -0.3606005 ,  0.14216992, -0.1212815 ,  0.6096625 , -0.20569251,\n",
              "               0.05310624,  0.07000913,  0.2063063 , -0.19333352,  0.2513543 ,\n",
              "              -0.53602725,  0.12918837,  0.520529  , -0.42131975, -0.82407767,\n",
              "               0.10123488,  0.67755824, -0.07384279,  0.07852615,  0.01442328,\n",
              "              -0.35169744, -0.04313325,  0.07451471, -0.44323257, -0.4182522 ,\n",
              "              -0.2147012 ,  0.24443956,  0.6674743 ,  0.26764554, -0.23662673,\n",
              "               0.97519106,  0.3613224 ,  0.6918047 , -0.7816667 ,  0.20468198,\n",
              "              -0.1453151 , -0.32490197, -0.70121795, -0.05942865, -0.7556459 ,\n",
              "               0.02266356, -0.26817858, -0.59228885,  0.00564046, -0.23304507,\n",
              "              -0.2200576 ,  0.27022532, -0.10383292, -0.85092914,  0.69829285,\n",
              "              -0.01882085,  0.04064379,  1.0065526 ,  0.765189  , -0.16420346,\n",
              "              -0.03550557], dtype=float32)                                    ],\n",
              "      dtype=object)"
            ]
          },
          "metadata": {},
          "execution_count": 37
        }
      ],
      "source": [
        "xtrain,xtest,ytrain,ytest = train_test_split(\n",
        "    df.X.values,\n",
        "    df.label,test_size=0.3\n",
        ")\n",
        "xtrain"
      ]
    },
    {
      "cell_type": "code",
      "execution_count": 38,
      "id": "7a842407-c202-4e5a-8210-3735d4b11d34",
      "metadata": {
        "id": "7a842407-c202-4e5a-8210-3735d4b11d34"
      },
      "outputs": [],
      "source": [
        "X_train_2d = np.stack(xtrain)\n",
        "X_test_2d = np.stack(xtest)"
      ]
    },
    {
      "cell_type": "markdown",
      "source": [
        "# **Decision Tree Classifier**"
      ],
      "metadata": {
        "id": "7wINa3-QOSsy"
      },
      "id": "7wINa3-QOSsy"
    },
    {
      "cell_type": "code",
      "execution_count": 39,
      "id": "4121b8be-facd-48b1-affc-c068d4e895fe",
      "metadata": {
        "id": "4121b8be-facd-48b1-affc-c068d4e895fe"
      },
      "outputs": [],
      "source": [
        "d_model = DecisionTreeClassifier()"
      ]
    },
    {
      "cell_type": "code",
      "execution_count": 40,
      "id": "8065ee6a-217a-4e25-a8e1-2fe7eda5b7f6",
      "metadata": {
        "colab": {
          "base_uri": "https://localhost:8080/",
          "height": 74
        },
        "id": "8065ee6a-217a-4e25-a8e1-2fe7eda5b7f6",
        "outputId": "36b11c73-5b06-4496-e93e-fa975dc433dd"
      },
      "outputs": [
        {
          "output_type": "execute_result",
          "data": {
            "text/plain": [
              "DecisionTreeClassifier()"
            ],
            "text/html": [
              "<style>#sk-container-id-1 {color: black;background-color: white;}#sk-container-id-1 pre{padding: 0;}#sk-container-id-1 div.sk-toggleable {background-color: white;}#sk-container-id-1 label.sk-toggleable__label {cursor: pointer;display: block;width: 100%;margin-bottom: 0;padding: 0.3em;box-sizing: border-box;text-align: center;}#sk-container-id-1 label.sk-toggleable__label-arrow:before {content: \"▸\";float: left;margin-right: 0.25em;color: #696969;}#sk-container-id-1 label.sk-toggleable__label-arrow:hover:before {color: black;}#sk-container-id-1 div.sk-estimator:hover label.sk-toggleable__label-arrow:before {color: black;}#sk-container-id-1 div.sk-toggleable__content {max-height: 0;max-width: 0;overflow: hidden;text-align: left;background-color: #f0f8ff;}#sk-container-id-1 div.sk-toggleable__content pre {margin: 0.2em;color: black;border-radius: 0.25em;background-color: #f0f8ff;}#sk-container-id-1 input.sk-toggleable__control:checked~div.sk-toggleable__content {max-height: 200px;max-width: 100%;overflow: auto;}#sk-container-id-1 input.sk-toggleable__control:checked~label.sk-toggleable__label-arrow:before {content: \"▾\";}#sk-container-id-1 div.sk-estimator input.sk-toggleable__control:checked~label.sk-toggleable__label {background-color: #d4ebff;}#sk-container-id-1 div.sk-label input.sk-toggleable__control:checked~label.sk-toggleable__label {background-color: #d4ebff;}#sk-container-id-1 input.sk-hidden--visually {border: 0;clip: rect(1px 1px 1px 1px);clip: rect(1px, 1px, 1px, 1px);height: 1px;margin: -1px;overflow: hidden;padding: 0;position: absolute;width: 1px;}#sk-container-id-1 div.sk-estimator {font-family: monospace;background-color: #f0f8ff;border: 1px dotted black;border-radius: 0.25em;box-sizing: border-box;margin-bottom: 0.5em;}#sk-container-id-1 div.sk-estimator:hover {background-color: #d4ebff;}#sk-container-id-1 div.sk-parallel-item::after {content: \"\";width: 100%;border-bottom: 1px solid gray;flex-grow: 1;}#sk-container-id-1 div.sk-label:hover label.sk-toggleable__label {background-color: #d4ebff;}#sk-container-id-1 div.sk-serial::before {content: \"\";position: absolute;border-left: 1px solid gray;box-sizing: border-box;top: 0;bottom: 0;left: 50%;z-index: 0;}#sk-container-id-1 div.sk-serial {display: flex;flex-direction: column;align-items: center;background-color: white;padding-right: 0.2em;padding-left: 0.2em;position: relative;}#sk-container-id-1 div.sk-item {position: relative;z-index: 1;}#sk-container-id-1 div.sk-parallel {display: flex;align-items: stretch;justify-content: center;background-color: white;position: relative;}#sk-container-id-1 div.sk-item::before, #sk-container-id-1 div.sk-parallel-item::before {content: \"\";position: absolute;border-left: 1px solid gray;box-sizing: border-box;top: 0;bottom: 0;left: 50%;z-index: -1;}#sk-container-id-1 div.sk-parallel-item {display: flex;flex-direction: column;z-index: 1;position: relative;background-color: white;}#sk-container-id-1 div.sk-parallel-item:first-child::after {align-self: flex-end;width: 50%;}#sk-container-id-1 div.sk-parallel-item:last-child::after {align-self: flex-start;width: 50%;}#sk-container-id-1 div.sk-parallel-item:only-child::after {width: 0;}#sk-container-id-1 div.sk-dashed-wrapped {border: 1px dashed gray;margin: 0 0.4em 0.5em 0.4em;box-sizing: border-box;padding-bottom: 0.4em;background-color: white;}#sk-container-id-1 div.sk-label label {font-family: monospace;font-weight: bold;display: inline-block;line-height: 1.2em;}#sk-container-id-1 div.sk-label-container {text-align: center;}#sk-container-id-1 div.sk-container {/* jupyter's `normalize.less` sets `[hidden] { display: none; }` but bootstrap.min.css set `[hidden] { display: none !important; }` so we also need the `!important` here to be able to override the default hidden behavior on the sphinx rendered scikit-learn.org. See: https://github.com/scikit-learn/scikit-learn/issues/21755 */display: inline-block !important;position: relative;}#sk-container-id-1 div.sk-text-repr-fallback {display: none;}</style><div id=\"sk-container-id-1\" class=\"sk-top-container\"><div class=\"sk-text-repr-fallback\"><pre>DecisionTreeClassifier()</pre><b>In a Jupyter environment, please rerun this cell to show the HTML representation or trust the notebook. <br />On GitHub, the HTML representation is unable to render, please try loading this page with nbviewer.org.</b></div><div class=\"sk-container\" hidden><div class=\"sk-item\"><div class=\"sk-estimator sk-toggleable\"><input class=\"sk-toggleable__control sk-hidden--visually\" id=\"sk-estimator-id-1\" type=\"checkbox\" checked><label for=\"sk-estimator-id-1\" class=\"sk-toggleable__label sk-toggleable__label-arrow\">DecisionTreeClassifier</label><div class=\"sk-toggleable__content\"><pre>DecisionTreeClassifier()</pre></div></div></div></div></div>"
            ]
          },
          "metadata": {},
          "execution_count": 40
        }
      ],
      "source": [
        "d_model.fit(X_train_2d,ytrain)"
      ]
    },
    {
      "cell_type": "code",
      "execution_count": 41,
      "id": "665de1cd-ad58-4a45-bc8e-36a96a8d9e8b",
      "metadata": {
        "id": "665de1cd-ad58-4a45-bc8e-36a96a8d9e8b"
      },
      "outputs": [],
      "source": [
        "y_pred = d_model.predict(X_test_2d)"
      ]
    },
    {
      "cell_type": "code",
      "execution_count": 42,
      "id": "6fc72439-c9bf-4dcd-abee-d2adb6dc1572",
      "metadata": {
        "colab": {
          "base_uri": "https://localhost:8080/"
        },
        "id": "6fc72439-c9bf-4dcd-abee-d2adb6dc1572",
        "outputId": "6b98a826-7723-4834-f660-409ff45f5620"
      },
      "outputs": [
        {
          "output_type": "stream",
          "name": "stdout",
          "text": [
            "              precision    recall  f1-score   support\n",
            "\n",
            "           0       0.53      0.53      0.53       611\n",
            "           1       0.52      0.52      0.52       589\n",
            "\n",
            "    accuracy                           0.53      1200\n",
            "   macro avg       0.52      0.52      0.52      1200\n",
            "weighted avg       0.53      0.53      0.53      1200\n",
            "\n"
          ]
        }
      ],
      "source": [
        "print(classification_report(ytest,y_pred))"
      ]
    },
    {
      "cell_type": "markdown",
      "source": [
        "# **Knn neighbour classifier**"
      ],
      "metadata": {
        "id": "JYNBoZTlOXHV"
      },
      "id": "JYNBoZTlOXHV"
    },
    {
      "cell_type": "code",
      "execution_count": 43,
      "id": "2d038df3-4c0d-4e17-8edb-89f4f9327d6c",
      "metadata": {
        "id": "2d038df3-4c0d-4e17-8edb-89f4f9327d6c"
      },
      "outputs": [],
      "source": [
        "knn = KNeighborsClassifier(n_neighbors=3)"
      ]
    },
    {
      "cell_type": "code",
      "execution_count": 44,
      "id": "da129682-55d5-4aeb-bb74-0ae0dbac75d5",
      "metadata": {
        "colab": {
          "base_uri": "https://localhost:8080/",
          "height": 74
        },
        "id": "da129682-55d5-4aeb-bb74-0ae0dbac75d5",
        "outputId": "6489497f-752c-415c-bca5-72f236f008bb"
      },
      "outputs": [
        {
          "output_type": "execute_result",
          "data": {
            "text/plain": [
              "KNeighborsClassifier(n_neighbors=3)"
            ],
            "text/html": [
              "<style>#sk-container-id-2 {color: black;background-color: white;}#sk-container-id-2 pre{padding: 0;}#sk-container-id-2 div.sk-toggleable {background-color: white;}#sk-container-id-2 label.sk-toggleable__label {cursor: pointer;display: block;width: 100%;margin-bottom: 0;padding: 0.3em;box-sizing: border-box;text-align: center;}#sk-container-id-2 label.sk-toggleable__label-arrow:before {content: \"▸\";float: left;margin-right: 0.25em;color: #696969;}#sk-container-id-2 label.sk-toggleable__label-arrow:hover:before {color: black;}#sk-container-id-2 div.sk-estimator:hover label.sk-toggleable__label-arrow:before {color: black;}#sk-container-id-2 div.sk-toggleable__content {max-height: 0;max-width: 0;overflow: hidden;text-align: left;background-color: #f0f8ff;}#sk-container-id-2 div.sk-toggleable__content pre {margin: 0.2em;color: black;border-radius: 0.25em;background-color: #f0f8ff;}#sk-container-id-2 input.sk-toggleable__control:checked~div.sk-toggleable__content {max-height: 200px;max-width: 100%;overflow: auto;}#sk-container-id-2 input.sk-toggleable__control:checked~label.sk-toggleable__label-arrow:before {content: \"▾\";}#sk-container-id-2 div.sk-estimator input.sk-toggleable__control:checked~label.sk-toggleable__label {background-color: #d4ebff;}#sk-container-id-2 div.sk-label input.sk-toggleable__control:checked~label.sk-toggleable__label {background-color: #d4ebff;}#sk-container-id-2 input.sk-hidden--visually {border: 0;clip: rect(1px 1px 1px 1px);clip: rect(1px, 1px, 1px, 1px);height: 1px;margin: -1px;overflow: hidden;padding: 0;position: absolute;width: 1px;}#sk-container-id-2 div.sk-estimator {font-family: monospace;background-color: #f0f8ff;border: 1px dotted black;border-radius: 0.25em;box-sizing: border-box;margin-bottom: 0.5em;}#sk-container-id-2 div.sk-estimator:hover {background-color: #d4ebff;}#sk-container-id-2 div.sk-parallel-item::after {content: \"\";width: 100%;border-bottom: 1px solid gray;flex-grow: 1;}#sk-container-id-2 div.sk-label:hover label.sk-toggleable__label {background-color: #d4ebff;}#sk-container-id-2 div.sk-serial::before {content: \"\";position: absolute;border-left: 1px solid gray;box-sizing: border-box;top: 0;bottom: 0;left: 50%;z-index: 0;}#sk-container-id-2 div.sk-serial {display: flex;flex-direction: column;align-items: center;background-color: white;padding-right: 0.2em;padding-left: 0.2em;position: relative;}#sk-container-id-2 div.sk-item {position: relative;z-index: 1;}#sk-container-id-2 div.sk-parallel {display: flex;align-items: stretch;justify-content: center;background-color: white;position: relative;}#sk-container-id-2 div.sk-item::before, #sk-container-id-2 div.sk-parallel-item::before {content: \"\";position: absolute;border-left: 1px solid gray;box-sizing: border-box;top: 0;bottom: 0;left: 50%;z-index: -1;}#sk-container-id-2 div.sk-parallel-item {display: flex;flex-direction: column;z-index: 1;position: relative;background-color: white;}#sk-container-id-2 div.sk-parallel-item:first-child::after {align-self: flex-end;width: 50%;}#sk-container-id-2 div.sk-parallel-item:last-child::after {align-self: flex-start;width: 50%;}#sk-container-id-2 div.sk-parallel-item:only-child::after {width: 0;}#sk-container-id-2 div.sk-dashed-wrapped {border: 1px dashed gray;margin: 0 0.4em 0.5em 0.4em;box-sizing: border-box;padding-bottom: 0.4em;background-color: white;}#sk-container-id-2 div.sk-label label {font-family: monospace;font-weight: bold;display: inline-block;line-height: 1.2em;}#sk-container-id-2 div.sk-label-container {text-align: center;}#sk-container-id-2 div.sk-container {/* jupyter's `normalize.less` sets `[hidden] { display: none; }` but bootstrap.min.css set `[hidden] { display: none !important; }` so we also need the `!important` here to be able to override the default hidden behavior on the sphinx rendered scikit-learn.org. See: https://github.com/scikit-learn/scikit-learn/issues/21755 */display: inline-block !important;position: relative;}#sk-container-id-2 div.sk-text-repr-fallback {display: none;}</style><div id=\"sk-container-id-2\" class=\"sk-top-container\"><div class=\"sk-text-repr-fallback\"><pre>KNeighborsClassifier(n_neighbors=3)</pre><b>In a Jupyter environment, please rerun this cell to show the HTML representation or trust the notebook. <br />On GitHub, the HTML representation is unable to render, please try loading this page with nbviewer.org.</b></div><div class=\"sk-container\" hidden><div class=\"sk-item\"><div class=\"sk-estimator sk-toggleable\"><input class=\"sk-toggleable__control sk-hidden--visually\" id=\"sk-estimator-id-2\" type=\"checkbox\" checked><label for=\"sk-estimator-id-2\" class=\"sk-toggleable__label sk-toggleable__label-arrow\">KNeighborsClassifier</label><div class=\"sk-toggleable__content\"><pre>KNeighborsClassifier(n_neighbors=3)</pre></div></div></div></div></div>"
            ]
          },
          "metadata": {},
          "execution_count": 44
        }
      ],
      "source": [
        "knn.fit(X_train_2d,ytrain)"
      ]
    },
    {
      "cell_type": "code",
      "execution_count": 45,
      "id": "f598678b-b492-44b6-a2f4-5347be4fcd1e",
      "metadata": {
        "id": "f598678b-b492-44b6-a2f4-5347be4fcd1e"
      },
      "outputs": [],
      "source": [
        "y_pred = d_model.predict(X_test_2d)"
      ]
    },
    {
      "cell_type": "code",
      "execution_count": 46,
      "id": "9365d906-1c3e-4b87-a302-4b80b589724e",
      "metadata": {
        "colab": {
          "base_uri": "https://localhost:8080/"
        },
        "id": "9365d906-1c3e-4b87-a302-4b80b589724e",
        "outputId": "1cc3622c-5f79-4903-8a7e-0b1a48332d1e"
      },
      "outputs": [
        {
          "output_type": "stream",
          "name": "stdout",
          "text": [
            "              precision    recall  f1-score   support\n",
            "\n",
            "           0       0.53      0.53      0.53       611\n",
            "           1       0.52      0.52      0.52       589\n",
            "\n",
            "    accuracy                           0.53      1200\n",
            "   macro avg       0.52      0.52      0.52      1200\n",
            "weighted avg       0.53      0.53      0.53      1200\n",
            "\n"
          ]
        }
      ],
      "source": [
        "print(classification_report(ytest,y_pred))"
      ]
    },
    {
      "cell_type": "markdown",
      "source": [
        "# **Random forest classifier**"
      ],
      "metadata": {
        "id": "jZVKoLzFOcez"
      },
      "id": "jZVKoLzFOcez"
    },
    {
      "cell_type": "code",
      "execution_count": 47,
      "id": "b02a6a79-86de-4c25-931c-2fa6fa95d476",
      "metadata": {
        "id": "b02a6a79-86de-4c25-931c-2fa6fa95d476"
      },
      "outputs": [],
      "source": [
        "rf = RandomForestClassifier()"
      ]
    },
    {
      "cell_type": "code",
      "execution_count": 48,
      "id": "4fdd861e-04be-4f57-b927-13845bcce896",
      "metadata": {
        "colab": {
          "base_uri": "https://localhost:8080/",
          "height": 74
        },
        "id": "4fdd861e-04be-4f57-b927-13845bcce896",
        "outputId": "963c49b5-1499-4cb4-a149-d1bd8d401b68"
      },
      "outputs": [
        {
          "output_type": "execute_result",
          "data": {
            "text/plain": [
              "RandomForestClassifier()"
            ],
            "text/html": [
              "<style>#sk-container-id-3 {color: black;background-color: white;}#sk-container-id-3 pre{padding: 0;}#sk-container-id-3 div.sk-toggleable {background-color: white;}#sk-container-id-3 label.sk-toggleable__label {cursor: pointer;display: block;width: 100%;margin-bottom: 0;padding: 0.3em;box-sizing: border-box;text-align: center;}#sk-container-id-3 label.sk-toggleable__label-arrow:before {content: \"▸\";float: left;margin-right: 0.25em;color: #696969;}#sk-container-id-3 label.sk-toggleable__label-arrow:hover:before {color: black;}#sk-container-id-3 div.sk-estimator:hover label.sk-toggleable__label-arrow:before {color: black;}#sk-container-id-3 div.sk-toggleable__content {max-height: 0;max-width: 0;overflow: hidden;text-align: left;background-color: #f0f8ff;}#sk-container-id-3 div.sk-toggleable__content pre {margin: 0.2em;color: black;border-radius: 0.25em;background-color: #f0f8ff;}#sk-container-id-3 input.sk-toggleable__control:checked~div.sk-toggleable__content {max-height: 200px;max-width: 100%;overflow: auto;}#sk-container-id-3 input.sk-toggleable__control:checked~label.sk-toggleable__label-arrow:before {content: \"▾\";}#sk-container-id-3 div.sk-estimator input.sk-toggleable__control:checked~label.sk-toggleable__label {background-color: #d4ebff;}#sk-container-id-3 div.sk-label input.sk-toggleable__control:checked~label.sk-toggleable__label {background-color: #d4ebff;}#sk-container-id-3 input.sk-hidden--visually {border: 0;clip: rect(1px 1px 1px 1px);clip: rect(1px, 1px, 1px, 1px);height: 1px;margin: -1px;overflow: hidden;padding: 0;position: absolute;width: 1px;}#sk-container-id-3 div.sk-estimator {font-family: monospace;background-color: #f0f8ff;border: 1px dotted black;border-radius: 0.25em;box-sizing: border-box;margin-bottom: 0.5em;}#sk-container-id-3 div.sk-estimator:hover {background-color: #d4ebff;}#sk-container-id-3 div.sk-parallel-item::after {content: \"\";width: 100%;border-bottom: 1px solid gray;flex-grow: 1;}#sk-container-id-3 div.sk-label:hover label.sk-toggleable__label {background-color: #d4ebff;}#sk-container-id-3 div.sk-serial::before {content: \"\";position: absolute;border-left: 1px solid gray;box-sizing: border-box;top: 0;bottom: 0;left: 50%;z-index: 0;}#sk-container-id-3 div.sk-serial {display: flex;flex-direction: column;align-items: center;background-color: white;padding-right: 0.2em;padding-left: 0.2em;position: relative;}#sk-container-id-3 div.sk-item {position: relative;z-index: 1;}#sk-container-id-3 div.sk-parallel {display: flex;align-items: stretch;justify-content: center;background-color: white;position: relative;}#sk-container-id-3 div.sk-item::before, #sk-container-id-3 div.sk-parallel-item::before {content: \"\";position: absolute;border-left: 1px solid gray;box-sizing: border-box;top: 0;bottom: 0;left: 50%;z-index: -1;}#sk-container-id-3 div.sk-parallel-item {display: flex;flex-direction: column;z-index: 1;position: relative;background-color: white;}#sk-container-id-3 div.sk-parallel-item:first-child::after {align-self: flex-end;width: 50%;}#sk-container-id-3 div.sk-parallel-item:last-child::after {align-self: flex-start;width: 50%;}#sk-container-id-3 div.sk-parallel-item:only-child::after {width: 0;}#sk-container-id-3 div.sk-dashed-wrapped {border: 1px dashed gray;margin: 0 0.4em 0.5em 0.4em;box-sizing: border-box;padding-bottom: 0.4em;background-color: white;}#sk-container-id-3 div.sk-label label {font-family: monospace;font-weight: bold;display: inline-block;line-height: 1.2em;}#sk-container-id-3 div.sk-label-container {text-align: center;}#sk-container-id-3 div.sk-container {/* jupyter's `normalize.less` sets `[hidden] { display: none; }` but bootstrap.min.css set `[hidden] { display: none !important; }` so we also need the `!important` here to be able to override the default hidden behavior on the sphinx rendered scikit-learn.org. See: https://github.com/scikit-learn/scikit-learn/issues/21755 */display: inline-block !important;position: relative;}#sk-container-id-3 div.sk-text-repr-fallback {display: none;}</style><div id=\"sk-container-id-3\" class=\"sk-top-container\"><div class=\"sk-text-repr-fallback\"><pre>RandomForestClassifier()</pre><b>In a Jupyter environment, please rerun this cell to show the HTML representation or trust the notebook. <br />On GitHub, the HTML representation is unable to render, please try loading this page with nbviewer.org.</b></div><div class=\"sk-container\" hidden><div class=\"sk-item\"><div class=\"sk-estimator sk-toggleable\"><input class=\"sk-toggleable__control sk-hidden--visually\" id=\"sk-estimator-id-3\" type=\"checkbox\" checked><label for=\"sk-estimator-id-3\" class=\"sk-toggleable__label sk-toggleable__label-arrow\">RandomForestClassifier</label><div class=\"sk-toggleable__content\"><pre>RandomForestClassifier()</pre></div></div></div></div></div>"
            ]
          },
          "metadata": {},
          "execution_count": 48
        }
      ],
      "source": [
        "rf.fit(X_train_2d,ytrain)"
      ]
    },
    {
      "cell_type": "code",
      "execution_count": 49,
      "id": "dcf1a7a4-3969-46a3-8966-788e29f63f38",
      "metadata": {
        "id": "dcf1a7a4-3969-46a3-8966-788e29f63f38"
      },
      "outputs": [],
      "source": [
        "y_pred = rf.predict(X_test_2d)"
      ]
    },
    {
      "cell_type": "code",
      "execution_count": 50,
      "id": "54b89891-5b5d-482a-9313-661fde84741d",
      "metadata": {
        "colab": {
          "base_uri": "https://localhost:8080/"
        },
        "id": "54b89891-5b5d-482a-9313-661fde84741d",
        "outputId": "5dc9b603-81b2-4d2b-ab88-feb5a1020d9e"
      },
      "outputs": [
        {
          "output_type": "stream",
          "name": "stdout",
          "text": [
            "              precision    recall  f1-score   support\n",
            "\n",
            "           0       0.57      0.57      0.57       611\n",
            "           1       0.55      0.55      0.55       589\n",
            "\n",
            "    accuracy                           0.56      1200\n",
            "   macro avg       0.56      0.56      0.56      1200\n",
            "weighted avg       0.56      0.56      0.56      1200\n",
            "\n"
          ]
        }
      ],
      "source": [
        "print(classification_report(ytest,y_pred))"
      ]
    },
    {
      "cell_type": "markdown",
      "source": [
        "# Naive Bayes **Classifer**"
      ],
      "metadata": {
        "id": "mimQMWDoOgo-"
      },
      "id": "mimQMWDoOgo-"
    },
    {
      "cell_type": "code",
      "execution_count": 51,
      "id": "7af9cd05-3952-4dd1-b429-be642bcbb694",
      "metadata": {
        "id": "7af9cd05-3952-4dd1-b429-be642bcbb694"
      },
      "outputs": [],
      "source": [
        "scaler = MinMaxScaler()\n",
        "X_train = scaler.fit_transform(X_train_2d)\n",
        "X_test = scaler.fit_transform(X_test_2d)"
      ]
    },
    {
      "cell_type": "code",
      "execution_count": 52,
      "id": "a58ec557-3dec-4b2c-a396-bdd5cccf86c5",
      "metadata": {
        "colab": {
          "base_uri": "https://localhost:8080/",
          "height": 74
        },
        "id": "a58ec557-3dec-4b2c-a396-bdd5cccf86c5",
        "outputId": "54bf0fbc-0adc-4ac2-d0fd-16bc29177ef5"
      },
      "outputs": [
        {
          "output_type": "execute_result",
          "data": {
            "text/plain": [
              "MultinomialNB()"
            ],
            "text/html": [
              "<style>#sk-container-id-4 {color: black;background-color: white;}#sk-container-id-4 pre{padding: 0;}#sk-container-id-4 div.sk-toggleable {background-color: white;}#sk-container-id-4 label.sk-toggleable__label {cursor: pointer;display: block;width: 100%;margin-bottom: 0;padding: 0.3em;box-sizing: border-box;text-align: center;}#sk-container-id-4 label.sk-toggleable__label-arrow:before {content: \"▸\";float: left;margin-right: 0.25em;color: #696969;}#sk-container-id-4 label.sk-toggleable__label-arrow:hover:before {color: black;}#sk-container-id-4 div.sk-estimator:hover label.sk-toggleable__label-arrow:before {color: black;}#sk-container-id-4 div.sk-toggleable__content {max-height: 0;max-width: 0;overflow: hidden;text-align: left;background-color: #f0f8ff;}#sk-container-id-4 div.sk-toggleable__content pre {margin: 0.2em;color: black;border-radius: 0.25em;background-color: #f0f8ff;}#sk-container-id-4 input.sk-toggleable__control:checked~div.sk-toggleable__content {max-height: 200px;max-width: 100%;overflow: auto;}#sk-container-id-4 input.sk-toggleable__control:checked~label.sk-toggleable__label-arrow:before {content: \"▾\";}#sk-container-id-4 div.sk-estimator input.sk-toggleable__control:checked~label.sk-toggleable__label {background-color: #d4ebff;}#sk-container-id-4 div.sk-label input.sk-toggleable__control:checked~label.sk-toggleable__label {background-color: #d4ebff;}#sk-container-id-4 input.sk-hidden--visually {border: 0;clip: rect(1px 1px 1px 1px);clip: rect(1px, 1px, 1px, 1px);height: 1px;margin: -1px;overflow: hidden;padding: 0;position: absolute;width: 1px;}#sk-container-id-4 div.sk-estimator {font-family: monospace;background-color: #f0f8ff;border: 1px dotted black;border-radius: 0.25em;box-sizing: border-box;margin-bottom: 0.5em;}#sk-container-id-4 div.sk-estimator:hover {background-color: #d4ebff;}#sk-container-id-4 div.sk-parallel-item::after {content: \"\";width: 100%;border-bottom: 1px solid gray;flex-grow: 1;}#sk-container-id-4 div.sk-label:hover label.sk-toggleable__label {background-color: #d4ebff;}#sk-container-id-4 div.sk-serial::before {content: \"\";position: absolute;border-left: 1px solid gray;box-sizing: border-box;top: 0;bottom: 0;left: 50%;z-index: 0;}#sk-container-id-4 div.sk-serial {display: flex;flex-direction: column;align-items: center;background-color: white;padding-right: 0.2em;padding-left: 0.2em;position: relative;}#sk-container-id-4 div.sk-item {position: relative;z-index: 1;}#sk-container-id-4 div.sk-parallel {display: flex;align-items: stretch;justify-content: center;background-color: white;position: relative;}#sk-container-id-4 div.sk-item::before, #sk-container-id-4 div.sk-parallel-item::before {content: \"\";position: absolute;border-left: 1px solid gray;box-sizing: border-box;top: 0;bottom: 0;left: 50%;z-index: -1;}#sk-container-id-4 div.sk-parallel-item {display: flex;flex-direction: column;z-index: 1;position: relative;background-color: white;}#sk-container-id-4 div.sk-parallel-item:first-child::after {align-self: flex-end;width: 50%;}#sk-container-id-4 div.sk-parallel-item:last-child::after {align-self: flex-start;width: 50%;}#sk-container-id-4 div.sk-parallel-item:only-child::after {width: 0;}#sk-container-id-4 div.sk-dashed-wrapped {border: 1px dashed gray;margin: 0 0.4em 0.5em 0.4em;box-sizing: border-box;padding-bottom: 0.4em;background-color: white;}#sk-container-id-4 div.sk-label label {font-family: monospace;font-weight: bold;display: inline-block;line-height: 1.2em;}#sk-container-id-4 div.sk-label-container {text-align: center;}#sk-container-id-4 div.sk-container {/* jupyter's `normalize.less` sets `[hidden] { display: none; }` but bootstrap.min.css set `[hidden] { display: none !important; }` so we also need the `!important` here to be able to override the default hidden behavior on the sphinx rendered scikit-learn.org. See: https://github.com/scikit-learn/scikit-learn/issues/21755 */display: inline-block !important;position: relative;}#sk-container-id-4 div.sk-text-repr-fallback {display: none;}</style><div id=\"sk-container-id-4\" class=\"sk-top-container\"><div class=\"sk-text-repr-fallback\"><pre>MultinomialNB()</pre><b>In a Jupyter environment, please rerun this cell to show the HTML representation or trust the notebook. <br />On GitHub, the HTML representation is unable to render, please try loading this page with nbviewer.org.</b></div><div class=\"sk-container\" hidden><div class=\"sk-item\"><div class=\"sk-estimator sk-toggleable\"><input class=\"sk-toggleable__control sk-hidden--visually\" id=\"sk-estimator-id-4\" type=\"checkbox\" checked><label for=\"sk-estimator-id-4\" class=\"sk-toggleable__label sk-toggleable__label-arrow\">MultinomialNB</label><div class=\"sk-toggleable__content\"><pre>MultinomialNB()</pre></div></div></div></div></div>"
            ]
          },
          "metadata": {},
          "execution_count": 52
        }
      ],
      "source": [
        "clf = MultinomialNB()\n",
        "clf.fit(X_train,ytrain)"
      ]
    },
    {
      "cell_type": "code",
      "execution_count": 53,
      "id": "bbf1a00f-e35d-455c-b075-201a778c71c5",
      "metadata": {
        "id": "bbf1a00f-e35d-455c-b075-201a778c71c5"
      },
      "outputs": [],
      "source": [
        "y_pred = clf.predict(X_test)"
      ]
    },
    {
      "cell_type": "code",
      "execution_count": 54,
      "id": "bb977f60-d1af-4208-8168-eafb04d90312",
      "metadata": {
        "colab": {
          "base_uri": "https://localhost:8080/"
        },
        "id": "bb977f60-d1af-4208-8168-eafb04d90312",
        "outputId": "a3ceb396-cb01-4ca3-80e2-05e3c3badd76"
      },
      "outputs": [
        {
          "output_type": "stream",
          "name": "stdout",
          "text": [
            "              precision    recall  f1-score   support\n",
            "\n",
            "           0       0.57      0.65      0.61       611\n",
            "           1       0.58      0.50      0.53       589\n",
            "\n",
            "    accuracy                           0.57      1200\n",
            "   macro avg       0.57      0.57      0.57      1200\n",
            "weighted avg       0.57      0.57      0.57      1200\n",
            "\n"
          ]
        }
      ],
      "source": [
        "print(classification_report(ytest,y_pred))"
      ]
    },
    {
      "cell_type": "markdown",
      "source": [
        "I have used dt,rf,knn and naive bayes classifier the maximum accuracy i got is 0.66 which is great. Now i will move forward with deep learning\n",
        "\n",
        "# **I am going to use lstm**"
      ],
      "metadata": {
        "id": "98WlazczO7cw"
      },
      "id": "98WlazczO7cw"
    },
    {
      "cell_type": "code",
      "execution_count": 55,
      "id": "e5eb13eb-534b-4ced-a2fa-bdc558861b3b",
      "metadata": {
        "colab": {
          "base_uri": "https://localhost:8080/",
          "height": 223
        },
        "id": "e5eb13eb-534b-4ced-a2fa-bdc558861b3b",
        "outputId": "2599d0b4-ab4b-4223-c208-547cf705f3a3"
      },
      "outputs": [
        {
          "output_type": "execute_result",
          "data": {
            "text/plain": [
              "                                                text  label  \\\n",
              "0  I went to see this movie with the most positiv...      0   \n",
              "1  I was not expecting a classic, but at least a ...      0   \n",
              "2  As a Mystery Science Theatre 3000 fan, I can w...      0   \n",
              "3  A couple move into their dream home, unaware t...      0   \n",
              "4  Ever wonder why Pacific Islanders seem to auto...      0   \n",
              "\n",
              "                                        preprocessed  \\\n",
              "0  went movie positive expectations seen jacquet ...   \n",
              "1  expecting classic funny film scenes makes laug...   \n",
              "2  mystery science theatre 3000 fan withstand mot...   \n",
              "3  couple dream home unaware neighbours built lan...   \n",
              "4  wonder pacific islanders automatically assume ...   \n",
              "\n",
              "                                                   X  \n",
              "0  [0.18040219, -0.18688156, -0.055014715, 0.0619...  \n",
              "1  [-0.011916071, -0.45923182, -0.08680493, 0.114...  \n",
              "2  [-0.07585683, -0.29758605, -0.07403976, 0.2032...  \n",
              "3  [0.19472545, -0.22533256, 0.050597675, 0.06596...  \n",
              "4  [0.1080412, -0.30727592, -0.011045225, 0.20556...  "
            ],
            "text/html": [
              "\n",
              "  <div id=\"df-dfc0a20f-bfc6-4444-988e-544083729899\" class=\"colab-df-container\">\n",
              "    <div>\n",
              "<style scoped>\n",
              "    .dataframe tbody tr th:only-of-type {\n",
              "        vertical-align: middle;\n",
              "    }\n",
              "\n",
              "    .dataframe tbody tr th {\n",
              "        vertical-align: top;\n",
              "    }\n",
              "\n",
              "    .dataframe thead th {\n",
              "        text-align: right;\n",
              "    }\n",
              "</style>\n",
              "<table border=\"1\" class=\"dataframe\">\n",
              "  <thead>\n",
              "    <tr style=\"text-align: right;\">\n",
              "      <th></th>\n",
              "      <th>text</th>\n",
              "      <th>label</th>\n",
              "      <th>preprocessed</th>\n",
              "      <th>X</th>\n",
              "    </tr>\n",
              "  </thead>\n",
              "  <tbody>\n",
              "    <tr>\n",
              "      <th>0</th>\n",
              "      <td>I went to see this movie with the most positiv...</td>\n",
              "      <td>0</td>\n",
              "      <td>went movie positive expectations seen jacquet ...</td>\n",
              "      <td>[0.18040219, -0.18688156, -0.055014715, 0.0619...</td>\n",
              "    </tr>\n",
              "    <tr>\n",
              "      <th>1</th>\n",
              "      <td>I was not expecting a classic, but at least a ...</td>\n",
              "      <td>0</td>\n",
              "      <td>expecting classic funny film scenes makes laug...</td>\n",
              "      <td>[-0.011916071, -0.45923182, -0.08680493, 0.114...</td>\n",
              "    </tr>\n",
              "    <tr>\n",
              "      <th>2</th>\n",
              "      <td>As a Mystery Science Theatre 3000 fan, I can w...</td>\n",
              "      <td>0</td>\n",
              "      <td>mystery science theatre 3000 fan withstand mot...</td>\n",
              "      <td>[-0.07585683, -0.29758605, -0.07403976, 0.2032...</td>\n",
              "    </tr>\n",
              "    <tr>\n",
              "      <th>3</th>\n",
              "      <td>A couple move into their dream home, unaware t...</td>\n",
              "      <td>0</td>\n",
              "      <td>couple dream home unaware neighbours built lan...</td>\n",
              "      <td>[0.19472545, -0.22533256, 0.050597675, 0.06596...</td>\n",
              "    </tr>\n",
              "    <tr>\n",
              "      <th>4</th>\n",
              "      <td>Ever wonder why Pacific Islanders seem to auto...</td>\n",
              "      <td>0</td>\n",
              "      <td>wonder pacific islanders automatically assume ...</td>\n",
              "      <td>[0.1080412, -0.30727592, -0.011045225, 0.20556...</td>\n",
              "    </tr>\n",
              "  </tbody>\n",
              "</table>\n",
              "</div>\n",
              "    <div class=\"colab-df-buttons\">\n",
              "\n",
              "  <div class=\"colab-df-container\">\n",
              "    <button class=\"colab-df-convert\" onclick=\"convertToInteractive('df-dfc0a20f-bfc6-4444-988e-544083729899')\"\n",
              "            title=\"Convert this dataframe to an interactive table.\"\n",
              "            style=\"display:none;\">\n",
              "\n",
              "  <svg xmlns=\"http://www.w3.org/2000/svg\" height=\"24px\" viewBox=\"0 -960 960 960\">\n",
              "    <path d=\"M120-120v-720h720v720H120Zm60-500h600v-160H180v160Zm220 220h160v-160H400v160Zm0 220h160v-160H400v160ZM180-400h160v-160H180v160Zm440 0h160v-160H620v160ZM180-180h160v-160H180v160Zm440 0h160v-160H620v160Z\"/>\n",
              "  </svg>\n",
              "    </button>\n",
              "\n",
              "  <style>\n",
              "    .colab-df-container {\n",
              "      display:flex;\n",
              "      gap: 12px;\n",
              "    }\n",
              "\n",
              "    .colab-df-convert {\n",
              "      background-color: #E8F0FE;\n",
              "      border: none;\n",
              "      border-radius: 50%;\n",
              "      cursor: pointer;\n",
              "      display: none;\n",
              "      fill: #1967D2;\n",
              "      height: 32px;\n",
              "      padding: 0 0 0 0;\n",
              "      width: 32px;\n",
              "    }\n",
              "\n",
              "    .colab-df-convert:hover {\n",
              "      background-color: #E2EBFA;\n",
              "      box-shadow: 0px 1px 2px rgba(60, 64, 67, 0.3), 0px 1px 3px 1px rgba(60, 64, 67, 0.15);\n",
              "      fill: #174EA6;\n",
              "    }\n",
              "\n",
              "    .colab-df-buttons div {\n",
              "      margin-bottom: 4px;\n",
              "    }\n",
              "\n",
              "    [theme=dark] .colab-df-convert {\n",
              "      background-color: #3B4455;\n",
              "      fill: #D2E3FC;\n",
              "    }\n",
              "\n",
              "    [theme=dark] .colab-df-convert:hover {\n",
              "      background-color: #434B5C;\n",
              "      box-shadow: 0px 1px 3px 1px rgba(0, 0, 0, 0.15);\n",
              "      filter: drop-shadow(0px 1px 2px rgba(0, 0, 0, 0.3));\n",
              "      fill: #FFFFFF;\n",
              "    }\n",
              "  </style>\n",
              "\n",
              "    <script>\n",
              "      const buttonEl =\n",
              "        document.querySelector('#df-dfc0a20f-bfc6-4444-988e-544083729899 button.colab-df-convert');\n",
              "      buttonEl.style.display =\n",
              "        google.colab.kernel.accessAllowed ? 'block' : 'none';\n",
              "\n",
              "      async function convertToInteractive(key) {\n",
              "        const element = document.querySelector('#df-dfc0a20f-bfc6-4444-988e-544083729899');\n",
              "        const dataTable =\n",
              "          await google.colab.kernel.invokeFunction('convertToInteractive',\n",
              "                                                    [key], {});\n",
              "        if (!dataTable) return;\n",
              "\n",
              "        const docLinkHtml = 'Like what you see? Visit the ' +\n",
              "          '<a target=\"_blank\" href=https://colab.research.google.com/notebooks/data_table.ipynb>data table notebook</a>'\n",
              "          + ' to learn more about interactive tables.';\n",
              "        element.innerHTML = '';\n",
              "        dataTable['output_type'] = 'display_data';\n",
              "        await google.colab.output.renderOutput(dataTable, element);\n",
              "        const docLink = document.createElement('div');\n",
              "        docLink.innerHTML = docLinkHtml;\n",
              "        element.appendChild(docLink);\n",
              "      }\n",
              "    </script>\n",
              "  </div>\n",
              "\n",
              "\n",
              "<div id=\"df-b701093b-1735-4781-a829-37079b6f4358\">\n",
              "  <button class=\"colab-df-quickchart\" onclick=\"quickchart('df-b701093b-1735-4781-a829-37079b6f4358')\"\n",
              "            title=\"Suggest charts\"\n",
              "            style=\"display:none;\">\n",
              "\n",
              "<svg xmlns=\"http://www.w3.org/2000/svg\" height=\"24px\"viewBox=\"0 0 24 24\"\n",
              "     width=\"24px\">\n",
              "    <g>\n",
              "        <path d=\"M19 3H5c-1.1 0-2 .9-2 2v14c0 1.1.9 2 2 2h14c1.1 0 2-.9 2-2V5c0-1.1-.9-2-2-2zM9 17H7v-7h2v7zm4 0h-2V7h2v10zm4 0h-2v-4h2v4z\"/>\n",
              "    </g>\n",
              "</svg>\n",
              "  </button>\n",
              "\n",
              "<style>\n",
              "  .colab-df-quickchart {\n",
              "      --bg-color: #E8F0FE;\n",
              "      --fill-color: #1967D2;\n",
              "      --hover-bg-color: #E2EBFA;\n",
              "      --hover-fill-color: #174EA6;\n",
              "      --disabled-fill-color: #AAA;\n",
              "      --disabled-bg-color: #DDD;\n",
              "  }\n",
              "\n",
              "  [theme=dark] .colab-df-quickchart {\n",
              "      --bg-color: #3B4455;\n",
              "      --fill-color: #D2E3FC;\n",
              "      --hover-bg-color: #434B5C;\n",
              "      --hover-fill-color: #FFFFFF;\n",
              "      --disabled-bg-color: #3B4455;\n",
              "      --disabled-fill-color: #666;\n",
              "  }\n",
              "\n",
              "  .colab-df-quickchart {\n",
              "    background-color: var(--bg-color);\n",
              "    border: none;\n",
              "    border-radius: 50%;\n",
              "    cursor: pointer;\n",
              "    display: none;\n",
              "    fill: var(--fill-color);\n",
              "    height: 32px;\n",
              "    padding: 0;\n",
              "    width: 32px;\n",
              "  }\n",
              "\n",
              "  .colab-df-quickchart:hover {\n",
              "    background-color: var(--hover-bg-color);\n",
              "    box-shadow: 0 1px 2px rgba(60, 64, 67, 0.3), 0 1px 3px 1px rgba(60, 64, 67, 0.15);\n",
              "    fill: var(--button-hover-fill-color);\n",
              "  }\n",
              "\n",
              "  .colab-df-quickchart-complete:disabled,\n",
              "  .colab-df-quickchart-complete:disabled:hover {\n",
              "    background-color: var(--disabled-bg-color);\n",
              "    fill: var(--disabled-fill-color);\n",
              "    box-shadow: none;\n",
              "  }\n",
              "\n",
              "  .colab-df-spinner {\n",
              "    border: 2px solid var(--fill-color);\n",
              "    border-color: transparent;\n",
              "    border-bottom-color: var(--fill-color);\n",
              "    animation:\n",
              "      spin 1s steps(1) infinite;\n",
              "  }\n",
              "\n",
              "  @keyframes spin {\n",
              "    0% {\n",
              "      border-color: transparent;\n",
              "      border-bottom-color: var(--fill-color);\n",
              "      border-left-color: var(--fill-color);\n",
              "    }\n",
              "    20% {\n",
              "      border-color: transparent;\n",
              "      border-left-color: var(--fill-color);\n",
              "      border-top-color: var(--fill-color);\n",
              "    }\n",
              "    30% {\n",
              "      border-color: transparent;\n",
              "      border-left-color: var(--fill-color);\n",
              "      border-top-color: var(--fill-color);\n",
              "      border-right-color: var(--fill-color);\n",
              "    }\n",
              "    40% {\n",
              "      border-color: transparent;\n",
              "      border-right-color: var(--fill-color);\n",
              "      border-top-color: var(--fill-color);\n",
              "    }\n",
              "    60% {\n",
              "      border-color: transparent;\n",
              "      border-right-color: var(--fill-color);\n",
              "    }\n",
              "    80% {\n",
              "      border-color: transparent;\n",
              "      border-right-color: var(--fill-color);\n",
              "      border-bottom-color: var(--fill-color);\n",
              "    }\n",
              "    90% {\n",
              "      border-color: transparent;\n",
              "      border-bottom-color: var(--fill-color);\n",
              "    }\n",
              "  }\n",
              "</style>\n",
              "\n",
              "  <script>\n",
              "    async function quickchart(key) {\n",
              "      const quickchartButtonEl =\n",
              "        document.querySelector('#' + key + ' button');\n",
              "      quickchartButtonEl.disabled = true;  // To prevent multiple clicks.\n",
              "      quickchartButtonEl.classList.add('colab-df-spinner');\n",
              "      try {\n",
              "        const charts = await google.colab.kernel.invokeFunction(\n",
              "            'suggestCharts', [key], {});\n",
              "      } catch (error) {\n",
              "        console.error('Error during call to suggestCharts:', error);\n",
              "      }\n",
              "      quickchartButtonEl.classList.remove('colab-df-spinner');\n",
              "      quickchartButtonEl.classList.add('colab-df-quickchart-complete');\n",
              "    }\n",
              "    (() => {\n",
              "      let quickchartButtonEl =\n",
              "        document.querySelector('#df-b701093b-1735-4781-a829-37079b6f4358 button');\n",
              "      quickchartButtonEl.style.display =\n",
              "        google.colab.kernel.accessAllowed ? 'block' : 'none';\n",
              "    })();\n",
              "  </script>\n",
              "</div>\n",
              "\n",
              "    </div>\n",
              "  </div>\n"
            ]
          },
          "metadata": {},
          "execution_count": 55
        }
      ],
      "source": [
        "df.head()"
      ]
    },
    {
      "cell_type": "code",
      "source": [
        "X,y = df.X,df.label\n",
        "X,y"
      ],
      "metadata": {
        "colab": {
          "base_uri": "https://localhost:8080/"
        },
        "id": "KKmoz6QTPdpu",
        "outputId": "46dfd8c1-1cc8-48d3-8ca0-e7b2c6dd01a8"
      },
      "id": "KKmoz6QTPdpu",
      "execution_count": 86,
      "outputs": [
        {
          "output_type": "execute_result",
          "data": {
            "text/plain": [
              "(0       [0.18040219, -0.18688156, -0.055014715, 0.0619...\n",
              " 1       [-0.011916071, -0.45923182, -0.08680493, 0.114...\n",
              " 2       [-0.07585683, -0.29758605, -0.07403976, 0.2032...\n",
              " 3       [0.19472545, -0.22533256, 0.050597675, 0.06596...\n",
              " 4       [0.1080412, -0.30727592, -0.011045225, 0.20556...\n",
              "                               ...                        \n",
              " 3995    [0.020056482, -0.36188513, 0.05933973, 0.11604...\n",
              " 3996    [0.048939165, -0.32395875, -0.037611783, 0.148...\n",
              " 3997    [-0.008206181, -0.51991343, 0.014609692, 0.095...\n",
              " 3998    [0.0070599387, -0.010561039, -0.11397981, 0.07...\n",
              " 3999    [0.09903505, -0.4270174, -0.010369744, 0.10976...\n",
              " Name: X, Length: 4000, dtype: object,\n",
              " 0       0\n",
              " 1       0\n",
              " 2       0\n",
              " 3       0\n",
              " 4       0\n",
              "        ..\n",
              " 3995    1\n",
              " 3996    1\n",
              " 3997    1\n",
              " 3998    1\n",
              " 3999    1\n",
              " Name: label, Length: 4000, dtype: int64)"
            ]
          },
          "metadata": {},
          "execution_count": 86
        }
      ]
    },
    {
      "cell_type": "code",
      "source": [
        "Xtensor,ytensor = torch.tensor(X),torch.tensor(y)\n",
        "# ytensor = ytensor.reshape(len(ytensor),1)\n",
        "Xtensor,ytensor"
      ],
      "metadata": {
        "colab": {
          "base_uri": "https://localhost:8080/"
        },
        "id": "LE9t7eFUPop9",
        "outputId": "d4538d26-ea9e-403e-cfd7-08c1f48d5174"
      },
      "id": "LE9t7eFUPop9",
      "execution_count": 87,
      "outputs": [
        {
          "output_type": "execute_result",
          "data": {
            "text/plain": [
              "(tensor([[ 0.1804, -0.1869, -0.0550,  ...,  0.8744, -0.1329, -0.0032],\n",
              "         [-0.0119, -0.4592, -0.0868,  ...,  0.6879, -0.4311,  0.0222],\n",
              "         [-0.0759, -0.2976, -0.0740,  ...,  0.7314, -0.2418,  0.0721],\n",
              "         ...,\n",
              "         [-0.0082, -0.5199,  0.0146,  ...,  0.6967, -0.2561, -0.0604],\n",
              "         [ 0.0071, -0.0106, -0.1140,  ...,  0.8267, -0.4122, -0.0786],\n",
              "         [ 0.0990, -0.4270, -0.0104,  ...,  0.6988, -0.1716,  0.0955]]),\n",
              " tensor([0, 0, 0,  ..., 1, 1, 1]))"
            ]
          },
          "metadata": {},
          "execution_count": 87
        }
      ]
    },
    {
      "cell_type": "code",
      "source": [
        "Xtrain,Xtest,ytrain,ytest = Xtensor[:1600],Xtensor[-400:],ytensor[:1600],ytensor[-400:]"
      ],
      "metadata": {
        "id": "Go47svnA_vKS"
      },
      "id": "Go47svnA_vKS",
      "execution_count": 88,
      "outputs": []
    },
    {
      "cell_type": "code",
      "source": [
        "Xtrain.shape"
      ],
      "metadata": {
        "colab": {
          "base_uri": "https://localhost:8080/"
        },
        "id": "XfgYNTWra1L5",
        "outputId": "13a31187-b902-4dae-94cd-c37431f81733"
      },
      "id": "XfgYNTWra1L5",
      "execution_count": 134,
      "outputs": [
        {
          "output_type": "execute_result",
          "data": {
            "text/plain": [
              "torch.Size([1600, 96])"
            ]
          },
          "metadata": {},
          "execution_count": 134
        }
      ]
    },
    {
      "cell_type": "code",
      "source": [
        "class MovieDataset(Dataset):\n",
        "    def __init__(self,input,target):\n",
        "        self.input = input\n",
        "        self.target = target\n",
        "    def __len__(self):\n",
        "        return len(self.input)\n",
        "    def __getitem__(self,idx):\n",
        "        x = self.input[idx]\n",
        "        y = self.target[idx]\n",
        "        return x,y"
      ],
      "metadata": {
        "id": "28B09i0LP9UG"
      },
      "id": "28B09i0LP9UG",
      "execution_count": 89,
      "outputs": []
    },
    {
      "cell_type": "code",
      "source": [
        "Train_data = MovieDataset(input=Xtrain,target=ytrain)\n",
        "Train_data[0]"
      ],
      "metadata": {
        "colab": {
          "base_uri": "https://localhost:8080/"
        },
        "id": "hT9bGAMM-yAl",
        "outputId": "3bc02d62-fbaa-458e-bdea-e4d5a5884352"
      },
      "id": "hT9bGAMM-yAl",
      "execution_count": 90,
      "outputs": [
        {
          "output_type": "execute_result",
          "data": {
            "text/plain": [
              "(tensor([ 0.1804, -0.1869, -0.0550,  0.0619,  0.0045, -0.2564,  0.3190,  0.2150,\n",
              "          0.2504, -0.2476, -0.2196, -0.1298, -0.4046, -0.4743, -0.1411,  0.3634,\n",
              "         -0.1758, -0.2670, -0.5462, -0.1704, -0.0204,  0.7257, -0.4157, -0.0644,\n",
              "          0.0627, -0.1437,  0.3592,  0.6403,  0.3062,  0.0756,  0.0525, -0.0242,\n",
              "         -0.3696, -0.0650,  0.1058, -0.3719,  0.2324, -0.0948,  0.0384, -0.1945,\n",
              "         -0.4198,  0.0667, -0.0780,  0.3011,  0.3005, -0.0081,  0.0437,  0.0131,\n",
              "         -0.0538,  0.0398, -0.4903,  0.0144, -0.0617, -0.5117, -0.4774,  0.4166,\n",
              "          0.3606, -0.0181, -0.1403, -0.1786, -0.2418, -0.0324, -0.1717, -0.0102,\n",
              "          0.0841, -0.1306,  0.1056,  0.1544,  0.2675, -0.1895,  0.6937,  0.2585,\n",
              "          0.3780, -0.3702,  0.0491, -0.2055,  0.1518, -0.7387,  0.1104, -0.6468,\n",
              "         -0.1399, -0.1136, -0.1926,  0.1659,  0.1139,  0.0573,  0.1977, -0.1832,\n",
              "         -0.5060,  0.1087,  0.1357,  0.0199,  0.7173,  0.8744, -0.1329, -0.0032]),\n",
              " tensor(0))"
            ]
          },
          "metadata": {},
          "execution_count": 90
        }
      ]
    },
    {
      "cell_type": "code",
      "source": [
        "Test_data = MovieDataset(input=Xtest,target=ytest)\n",
        "Test_data[0]"
      ],
      "metadata": {
        "colab": {
          "base_uri": "https://localhost:8080/"
        },
        "id": "l_WuShf4_dA2",
        "outputId": "0dcbbeda-a1a4-48ef-f83e-bd49b89dc689"
      },
      "id": "l_WuShf4_dA2",
      "execution_count": 91,
      "outputs": [
        {
          "output_type": "execute_result",
          "data": {
            "text/plain": [
              "(tensor([-0.0506, -0.5721,  0.1334,  0.2594,  0.0684, -0.3201,  0.1854,  0.4712,\n",
              "          0.2130, -0.2146,  0.1625,  0.1445, -0.5231, -0.6209, -0.4340,  0.3316,\n",
              "         -0.2633, -0.1343, -0.5490, -0.3341, -0.3015,  0.4544, -0.4549,  0.0945,\n",
              "          0.0527, -0.0551,  0.3354,  0.7198,  0.2916,  0.0566, -0.0011, -0.2452,\n",
              "         -0.2212,  0.3868, -0.1678, -0.2515,  0.3861,  0.1583, -0.1734, -0.1974,\n",
              "         -0.3886,  0.1525, -0.0562,  0.3572, -0.1108,  0.0379,  0.0850,  0.0998,\n",
              "         -0.1476,  0.3217, -0.5247,  0.1923,  0.2387, -0.3767, -0.7411,  0.3172,\n",
              "          0.6200, -0.0051, -0.0054,  0.1583, -0.2644, -0.2217,  0.0548, -0.2909,\n",
              "         -0.3182, -0.2492,  0.1375,  0.5141,  0.1856, -0.1320,  0.8697,  0.4124,\n",
              "          0.4222, -0.6744,  0.2257, -0.1356, -0.0962, -0.8719,  0.0288, -0.7268,\n",
              "         -0.0781, -0.2847, -0.3765,  0.1450, -0.0858, -0.0378,  0.1645, -0.0768,\n",
              "         -0.7872,  0.5801,  0.1835,  0.1931,  0.9457,  0.6558, -0.0640,  0.0375]),\n",
              " tensor(1))"
            ]
          },
          "metadata": {},
          "execution_count": 91
        }
      ]
    },
    {
      "cell_type": "code",
      "source": [
        "bs = 4\n",
        "Train_loader = DataLoader(\n",
        "    Train_data,\n",
        "    batch_size=bs,\n",
        "    shuffle=True\n",
        ")\n",
        "\n",
        "Test_loader = DataLoader(\n",
        "    Test_data,\n",
        "    batch_size=bs,\n",
        "    shuffle=False\n",
        ")"
      ],
      "metadata": {
        "id": "QCQXDG4RARhm"
      },
      "id": "QCQXDG4RARhm",
      "execution_count": 92,
      "outputs": []
    },
    {
      "cell_type": "code",
      "source": [
        "data,label = next(iter(Train_loader))\n",
        "print(data)\n",
        "print(label)\n",
        "print(data.shape)"
      ],
      "metadata": {
        "colab": {
          "base_uri": "https://localhost:8080/"
        },
        "id": "mhLGAP6JCE9g",
        "outputId": "8b5378fe-6273-475f-8608-c7f227ac02bd"
      },
      "id": "mhLGAP6JCE9g",
      "execution_count": 93,
      "outputs": [
        {
          "output_type": "stream",
          "name": "stdout",
          "text": [
            "tensor([[-0.1138, -0.3226, -0.0043, -0.0200, -0.0251, -0.0319,  0.2945,  0.3741,\n",
            "          0.4015, -0.1629,  0.2198, -0.0302, -0.4461, -0.4188, -0.2292,  0.3505,\n",
            "         -0.4546, -0.3293, -0.2369, -0.1215, -0.1345,  0.2466, -0.2101, -0.1389,\n",
            "          0.0844, -0.1318,  0.4116,  0.6920,  0.2111,  0.2012, -0.1605, -0.0323,\n",
            "         -0.3151,  0.0423, -0.0832, -0.0326,  0.3621,  0.0646, -0.1434, -0.0209,\n",
            "         -0.0781,  0.0028,  0.0546,  0.3611, -0.1874, -0.1549,  0.1318, -0.0441,\n",
            "         -0.1045,  0.1817, -0.4599,  0.1433,  0.1486, -0.2210, -0.5172,  0.2454,\n",
            "          0.3495, -0.0480,  0.1633,  0.0091, -0.2375, -0.1429,  0.0065, -0.2078,\n",
            "         -0.0385, -0.0529, -0.0224,  0.2403,  0.1817, -0.2678,  0.6822,  0.3234,\n",
            "          0.2647, -0.4102,  0.3522, -0.1431, -0.1175, -0.7108, -0.1076, -0.4116,\n",
            "         -0.0254, -0.2502, -0.1765, -0.1706,  0.0511,  0.1189,  0.2159, -0.0792,\n",
            "         -0.6430,  0.5656,  0.2313, -0.0290,  0.7417,  0.5862, -0.2015, -0.0417],\n",
            "        [ 0.0320, -0.4123, -0.0050,  0.1110, -0.0285, -0.1392,  0.3767,  0.3808,\n",
            "          0.2600, -0.2254,  0.1670, -0.1003, -0.3345, -0.5432, -0.2226,  0.2684,\n",
            "         -0.2113, -0.3383, -0.5499, -0.2857, -0.0980,  0.3746, -0.3850, -0.0528,\n",
            "          0.0704, -0.2178,  0.4028,  0.6649,  0.2275,  0.1117, -0.1805,  0.0069,\n",
            "         -0.3574,  0.0798, -0.0244, -0.1113,  0.2381,  0.0794, -0.0568,  0.0334,\n",
            "         -0.3520, -0.0179, -0.0680,  0.4054, -0.0409, -0.0660,  0.3091,  0.0042,\n",
            "         -0.0409, -0.0306, -0.3855, -0.1170,  0.1212, -0.3870, -0.4111,  0.1949,\n",
            "          0.4106, -0.0582,  0.0596, -0.0785, -0.2228,  0.0542, -0.0776, -0.2076,\n",
            "          0.0198, -0.0144,  0.1048,  0.2532,  0.0876, -0.0761,  0.6486,  0.3329,\n",
            "          0.4578, -0.5241,  0.1704, -0.0660,  0.0716, -0.7140, -0.0399, -0.5477,\n",
            "         -0.0265, -0.2187, -0.3158, -0.0344,  0.1291,  0.0645,  0.0888, -0.1802,\n",
            "         -0.6428,  0.3939,  0.1452,  0.0525,  0.8228,  0.7541, -0.1977,  0.0078],\n",
            "        [ 0.0240, -0.3861, -0.0072,  0.1530,  0.0673, -0.0438,  0.2661,  0.6023,\n",
            "          0.2590, -0.1776,  0.2574,  0.1402, -0.5183, -0.6294, -0.2435,  0.3956,\n",
            "         -0.3592, -0.1499, -0.5048, -0.1973, -0.2774,  0.3844, -0.2094,  0.0840,\n",
            "          0.2129, -0.0304,  0.3844,  0.7567,  0.2862,  0.1362, -0.0357, -0.3211,\n",
            "         -0.2928,  0.3242, -0.2379, -0.2362,  0.2750,  0.0648, -0.2274, -0.0431,\n",
            "         -0.3075,  0.0844,  0.0336,  0.3615, -0.0516, -0.0090,  0.0669,  0.0051,\n",
            "         -0.2541,  0.2474, -0.5454,  0.2353,  0.1717, -0.3714, -0.6903,  0.3453,\n",
            "          0.6209, -0.0391,  0.0315,  0.0331, -0.4041, -0.1083,  0.2062, -0.4572,\n",
            "         -0.1739, -0.2021,  0.0364,  0.2691,  0.1280, -0.1161,  0.7003,  0.3246,\n",
            "          0.4907, -0.6329,  0.3265, -0.1298, -0.3434, -0.7497,  0.0880, -0.5262,\n",
            "         -0.0700, -0.2694, -0.2527, -0.0142, -0.0406, -0.1054,  0.2294, -0.0842,\n",
            "         -0.7569,  0.4950,  0.0518,  0.2191,  0.8823,  0.5868, -0.1407,  0.0576],\n",
            "        [ 0.0383, -0.2774, -0.1330,  0.0979,  0.0846, -0.1494,  0.4287,  0.3322,\n",
            "          0.2690, -0.1072, -0.0055, -0.0859, -0.3547, -0.7168, -0.1058,  0.4859,\n",
            "         -0.2789, -0.1756, -0.5316, -0.1214,  0.0643,  0.5368, -0.4805,  0.0185,\n",
            "          0.2163, -0.0989,  0.3557,  0.9312,  0.4855, -0.0569,  0.0404, -0.1255,\n",
            "         -0.3498, -0.0288, -0.0485, -0.3875,  0.3298,  0.0996, -0.0152, -0.2193,\n",
            "         -0.3729,  0.2265, -0.2015,  0.3880,  0.1693, -0.0138,  0.1571,  0.1894,\n",
            "         -0.0067, -0.0688, -0.5330,  0.0281,  0.1706, -0.6349, -0.4783,  0.2759,\n",
            "          0.3279,  0.1158, -0.2863, -0.0974, -0.1610,  0.0473, -0.1453, -0.0318,\n",
            "          0.0269, -0.1693,  0.2058,  0.3852,  0.1832, -0.0678,  0.6043,  0.2399,\n",
            "          0.5685, -0.3354,  0.1185, -0.2774, -0.0976, -0.7971, -0.0165, -0.8026,\n",
            "         -0.1680,  0.0871, -0.2640, -0.0218,  0.1328,  0.1522,  0.0394, -0.2291,\n",
            "         -0.7404, -0.0240,  0.0560,  0.1813,  0.7495,  0.8027, -0.3570, -0.0973]])\n",
            "tensor([0, 0, 0, 0])\n",
            "torch.Size([4, 96])\n"
          ]
        }
      ]
    },
    {
      "cell_type": "markdown",
      "source": [
        "# **Lets Create a model architecture**"
      ],
      "metadata": {
        "id": "AiNCbMNwAz8-"
      },
      "id": "AiNCbMNwAz8-"
    },
    {
      "cell_type": "code",
      "source": [
        "device = 'cuda' if torch.cuda.is_available() else 'cpu'\n",
        "device"
      ],
      "metadata": {
        "colab": {
          "base_uri": "https://localhost:8080/",
          "height": 35
        },
        "id": "yANkhcPIEMtF",
        "outputId": "b3d229a2-709f-405d-e40f-9059f1510635"
      },
      "id": "yANkhcPIEMtF",
      "execution_count": 112,
      "outputs": [
        {
          "output_type": "execute_result",
          "data": {
            "text/plain": [
              "'cuda'"
            ],
            "application/vnd.google.colaboratory.intrinsic+json": {
              "type": "string"
            }
          },
          "metadata": {},
          "execution_count": 112
        }
      ]
    },
    {
      "cell_type": "code",
      "source": [
        "class MovieReviewClassification(nn.Module):\n",
        "    def __init__(self,input_dim,hidden_dim,layer_dim,output_dim):\n",
        "        super().__init__()\n",
        "        self.hidden = hidden_dim\n",
        "        self.layer = layer_dim\n",
        "        self.lstm = nn.LSTM(\n",
        "            input_size=input_dim,\n",
        "            hidden_size=hidden_dim,\n",
        "            num_layers=layer_dim,\n",
        "            batch_first=True\n",
        "        )\n",
        "        self.fc = nn.Linear(hidden_dim,output_dim)\n",
        "\n",
        "    def forward(self,x):\n",
        "        h0 = torch.zeros(self.layer, x.size(0), self.hidden).to(x.device)\n",
        "        c0 = torch.zeros(self.layer, x.size(0), self.hidden).to(x.device)\n",
        "\n",
        "        # Forward pass through LSTM layer\n",
        "        out, _ = self.lstm(x, (h0, c0))\n",
        "\n",
        "        # Only take the output from the final time step\n",
        "        out = self.fc(out[:, -1, :])\n",
        "\n",
        "        return out\n"
      ],
      "metadata": {
        "id": "BBxOwVeoAwsW"
      },
      "id": "BBxOwVeoAwsW",
      "execution_count": 130,
      "outputs": []
    },
    {
      "cell_type": "code",
      "source": [
        "input_dim = 96\n",
        "hidden_dim = 16\n",
        "layer_dim = 1\n",
        "output_dim = 2"
      ],
      "metadata": {
        "id": "vs9K-dyNE8C1"
      },
      "id": "vs9K-dyNE8C1",
      "execution_count": 131,
      "outputs": []
    },
    {
      "cell_type": "code",
      "source": [
        "model = MovieReviewClassification(input_dim,hidden_dim,layer_dim,output_dim).to(device)"
      ],
      "metadata": {
        "id": "8LNiPj7fFH3t"
      },
      "id": "8LNiPj7fFH3t",
      "execution_count": 132,
      "outputs": []
    },
    {
      "cell_type": "markdown",
      "source": [
        "Lets predict a raw data"
      ],
      "metadata": {
        "id": "P5D1NXAUFVrr"
      },
      "id": "P5D1NXAUFVrr"
    },
    {
      "cell_type": "code",
      "source": [
        "sample = torch.randn(size=(1600, 96))\n",
        "print(sample)\n",
        "\n",
        "out = model(sample.to(device))\n",
        "print(out)"
      ],
      "metadata": {
        "id": "EnZSPAITFSjV",
        "colab": {
          "base_uri": "https://localhost:8080/",
          "height": 496
        },
        "outputId": "be88c0f3-308d-4ecc-bb09-d7ec248aac0d"
      },
      "id": "EnZSPAITFSjV",
      "execution_count": 135,
      "outputs": [
        {
          "output_type": "stream",
          "name": "stdout",
          "text": [
            "tensor([[ 0.5531,  0.3115,  0.8923,  ...,  2.4662,  0.7656,  0.3161],\n",
            "        [ 1.5748, -0.8154, -0.9485,  ...,  1.3640,  0.1907,  0.9297],\n",
            "        [-2.5708,  0.4350,  0.0248,  ..., -1.0645,  2.1799,  1.9993],\n",
            "        ...,\n",
            "        [ 0.3945, -0.4717, -0.6140,  ...,  1.0715,  1.3888,  0.0345],\n",
            "        [-0.1855,  0.9303, -0.2831,  ...,  0.2050,  0.5132, -0.7052],\n",
            "        [-0.2352, -0.3303,  0.0366,  ..., -0.3030,  0.2096,  0.4391]])\n"
          ]
        },
        {
          "output_type": "error",
          "ename": "RuntimeError",
          "evalue": "ignored",
          "traceback": [
            "\u001b[0;31m---------------------------------------------------------------------------\u001b[0m",
            "\u001b[0;31mRuntimeError\u001b[0m                              Traceback (most recent call last)",
            "\u001b[0;32m<ipython-input-135-f466e93381f8>\u001b[0m in \u001b[0;36m<cell line: 4>\u001b[0;34m()\u001b[0m\n\u001b[1;32m      2\u001b[0m \u001b[0mprint\u001b[0m\u001b[0;34m(\u001b[0m\u001b[0msample\u001b[0m\u001b[0;34m)\u001b[0m\u001b[0;34m\u001b[0m\u001b[0;34m\u001b[0m\u001b[0m\n\u001b[1;32m      3\u001b[0m \u001b[0;34m\u001b[0m\u001b[0m\n\u001b[0;32m----> 4\u001b[0;31m \u001b[0mout\u001b[0m \u001b[0;34m=\u001b[0m \u001b[0mmodel\u001b[0m\u001b[0;34m(\u001b[0m\u001b[0msample\u001b[0m\u001b[0;34m.\u001b[0m\u001b[0mto\u001b[0m\u001b[0;34m(\u001b[0m\u001b[0mdevice\u001b[0m\u001b[0;34m)\u001b[0m\u001b[0;34m)\u001b[0m\u001b[0;34m\u001b[0m\u001b[0;34m\u001b[0m\u001b[0m\n\u001b[0m\u001b[1;32m      5\u001b[0m \u001b[0mprint\u001b[0m\u001b[0;34m(\u001b[0m\u001b[0mout\u001b[0m\u001b[0;34m)\u001b[0m\u001b[0;34m\u001b[0m\u001b[0;34m\u001b[0m\u001b[0m\n",
            "\u001b[0;32m/usr/local/lib/python3.10/dist-packages/torch/nn/modules/module.py\u001b[0m in \u001b[0;36m_wrapped_call_impl\u001b[0;34m(self, *args, **kwargs)\u001b[0m\n\u001b[1;32m   1516\u001b[0m             \u001b[0;32mreturn\u001b[0m \u001b[0mself\u001b[0m\u001b[0;34m.\u001b[0m\u001b[0m_compiled_call_impl\u001b[0m\u001b[0;34m(\u001b[0m\u001b[0;34m*\u001b[0m\u001b[0margs\u001b[0m\u001b[0;34m,\u001b[0m \u001b[0;34m**\u001b[0m\u001b[0mkwargs\u001b[0m\u001b[0;34m)\u001b[0m  \u001b[0;31m# type: ignore[misc]\u001b[0m\u001b[0;34m\u001b[0m\u001b[0;34m\u001b[0m\u001b[0m\n\u001b[1;32m   1517\u001b[0m         \u001b[0;32melse\u001b[0m\u001b[0;34m:\u001b[0m\u001b[0;34m\u001b[0m\u001b[0;34m\u001b[0m\u001b[0m\n\u001b[0;32m-> 1518\u001b[0;31m             \u001b[0;32mreturn\u001b[0m \u001b[0mself\u001b[0m\u001b[0;34m.\u001b[0m\u001b[0m_call_impl\u001b[0m\u001b[0;34m(\u001b[0m\u001b[0;34m*\u001b[0m\u001b[0margs\u001b[0m\u001b[0;34m,\u001b[0m \u001b[0;34m**\u001b[0m\u001b[0mkwargs\u001b[0m\u001b[0;34m)\u001b[0m\u001b[0;34m\u001b[0m\u001b[0;34m\u001b[0m\u001b[0m\n\u001b[0m\u001b[1;32m   1519\u001b[0m \u001b[0;34m\u001b[0m\u001b[0m\n\u001b[1;32m   1520\u001b[0m     \u001b[0;32mdef\u001b[0m \u001b[0m_call_impl\u001b[0m\u001b[0;34m(\u001b[0m\u001b[0mself\u001b[0m\u001b[0;34m,\u001b[0m \u001b[0;34m*\u001b[0m\u001b[0margs\u001b[0m\u001b[0;34m,\u001b[0m \u001b[0;34m**\u001b[0m\u001b[0mkwargs\u001b[0m\u001b[0;34m)\u001b[0m\u001b[0;34m:\u001b[0m\u001b[0;34m\u001b[0m\u001b[0;34m\u001b[0m\u001b[0m\n",
            "\u001b[0;32m/usr/local/lib/python3.10/dist-packages/torch/nn/modules/module.py\u001b[0m in \u001b[0;36m_call_impl\u001b[0;34m(self, *args, **kwargs)\u001b[0m\n\u001b[1;32m   1525\u001b[0m                 \u001b[0;32mor\u001b[0m \u001b[0m_global_backward_pre_hooks\u001b[0m \u001b[0;32mor\u001b[0m \u001b[0m_global_backward_hooks\u001b[0m\u001b[0;34m\u001b[0m\u001b[0;34m\u001b[0m\u001b[0m\n\u001b[1;32m   1526\u001b[0m                 or _global_forward_hooks or _global_forward_pre_hooks):\n\u001b[0;32m-> 1527\u001b[0;31m             \u001b[0;32mreturn\u001b[0m \u001b[0mforward_call\u001b[0m\u001b[0;34m(\u001b[0m\u001b[0;34m*\u001b[0m\u001b[0margs\u001b[0m\u001b[0;34m,\u001b[0m \u001b[0;34m**\u001b[0m\u001b[0mkwargs\u001b[0m\u001b[0;34m)\u001b[0m\u001b[0;34m\u001b[0m\u001b[0;34m\u001b[0m\u001b[0m\n\u001b[0m\u001b[1;32m   1528\u001b[0m \u001b[0;34m\u001b[0m\u001b[0m\n\u001b[1;32m   1529\u001b[0m         \u001b[0;32mtry\u001b[0m\u001b[0;34m:\u001b[0m\u001b[0;34m\u001b[0m\u001b[0;34m\u001b[0m\u001b[0m\n",
            "\u001b[0;32m<ipython-input-130-fede41398015>\u001b[0m in \u001b[0;36mforward\u001b[0;34m(self, x)\u001b[0m\n\u001b[1;32m     17\u001b[0m \u001b[0;34m\u001b[0m\u001b[0m\n\u001b[1;32m     18\u001b[0m         \u001b[0;31m# Forward pass through LSTM layer\u001b[0m\u001b[0;34m\u001b[0m\u001b[0;34m\u001b[0m\u001b[0m\n\u001b[0;32m---> 19\u001b[0;31m         \u001b[0mout\u001b[0m\u001b[0;34m,\u001b[0m \u001b[0m_\u001b[0m \u001b[0;34m=\u001b[0m \u001b[0mself\u001b[0m\u001b[0;34m.\u001b[0m\u001b[0mlstm\u001b[0m\u001b[0;34m(\u001b[0m\u001b[0mx\u001b[0m\u001b[0;34m,\u001b[0m \u001b[0;34m(\u001b[0m\u001b[0mh0\u001b[0m\u001b[0;34m,\u001b[0m \u001b[0mc0\u001b[0m\u001b[0;34m)\u001b[0m\u001b[0;34m)\u001b[0m\u001b[0;34m\u001b[0m\u001b[0;34m\u001b[0m\u001b[0m\n\u001b[0m\u001b[1;32m     20\u001b[0m \u001b[0;34m\u001b[0m\u001b[0m\n\u001b[1;32m     21\u001b[0m         \u001b[0;31m# Only take the output from the final time step\u001b[0m\u001b[0;34m\u001b[0m\u001b[0;34m\u001b[0m\u001b[0m\n",
            "\u001b[0;32m/usr/local/lib/python3.10/dist-packages/torch/nn/modules/module.py\u001b[0m in \u001b[0;36m_wrapped_call_impl\u001b[0;34m(self, *args, **kwargs)\u001b[0m\n\u001b[1;32m   1516\u001b[0m             \u001b[0;32mreturn\u001b[0m \u001b[0mself\u001b[0m\u001b[0;34m.\u001b[0m\u001b[0m_compiled_call_impl\u001b[0m\u001b[0;34m(\u001b[0m\u001b[0;34m*\u001b[0m\u001b[0margs\u001b[0m\u001b[0;34m,\u001b[0m \u001b[0;34m**\u001b[0m\u001b[0mkwargs\u001b[0m\u001b[0;34m)\u001b[0m  \u001b[0;31m# type: ignore[misc]\u001b[0m\u001b[0;34m\u001b[0m\u001b[0;34m\u001b[0m\u001b[0m\n\u001b[1;32m   1517\u001b[0m         \u001b[0;32melse\u001b[0m\u001b[0;34m:\u001b[0m\u001b[0;34m\u001b[0m\u001b[0;34m\u001b[0m\u001b[0m\n\u001b[0;32m-> 1518\u001b[0;31m             \u001b[0;32mreturn\u001b[0m \u001b[0mself\u001b[0m\u001b[0;34m.\u001b[0m\u001b[0m_call_impl\u001b[0m\u001b[0;34m(\u001b[0m\u001b[0;34m*\u001b[0m\u001b[0margs\u001b[0m\u001b[0;34m,\u001b[0m \u001b[0;34m**\u001b[0m\u001b[0mkwargs\u001b[0m\u001b[0;34m)\u001b[0m\u001b[0;34m\u001b[0m\u001b[0;34m\u001b[0m\u001b[0m\n\u001b[0m\u001b[1;32m   1519\u001b[0m \u001b[0;34m\u001b[0m\u001b[0m\n\u001b[1;32m   1520\u001b[0m     \u001b[0;32mdef\u001b[0m \u001b[0m_call_impl\u001b[0m\u001b[0;34m(\u001b[0m\u001b[0mself\u001b[0m\u001b[0;34m,\u001b[0m \u001b[0;34m*\u001b[0m\u001b[0margs\u001b[0m\u001b[0;34m,\u001b[0m \u001b[0;34m**\u001b[0m\u001b[0mkwargs\u001b[0m\u001b[0;34m)\u001b[0m\u001b[0;34m:\u001b[0m\u001b[0;34m\u001b[0m\u001b[0;34m\u001b[0m\u001b[0m\n",
            "\u001b[0;32m/usr/local/lib/python3.10/dist-packages/torch/nn/modules/module.py\u001b[0m in \u001b[0;36m_call_impl\u001b[0;34m(self, *args, **kwargs)\u001b[0m\n\u001b[1;32m   1525\u001b[0m                 \u001b[0;32mor\u001b[0m \u001b[0m_global_backward_pre_hooks\u001b[0m \u001b[0;32mor\u001b[0m \u001b[0m_global_backward_hooks\u001b[0m\u001b[0;34m\u001b[0m\u001b[0;34m\u001b[0m\u001b[0m\n\u001b[1;32m   1526\u001b[0m                 or _global_forward_hooks or _global_forward_pre_hooks):\n\u001b[0;32m-> 1527\u001b[0;31m             \u001b[0;32mreturn\u001b[0m \u001b[0mforward_call\u001b[0m\u001b[0;34m(\u001b[0m\u001b[0;34m*\u001b[0m\u001b[0margs\u001b[0m\u001b[0;34m,\u001b[0m \u001b[0;34m**\u001b[0m\u001b[0mkwargs\u001b[0m\u001b[0;34m)\u001b[0m\u001b[0;34m\u001b[0m\u001b[0;34m\u001b[0m\u001b[0m\n\u001b[0m\u001b[1;32m   1528\u001b[0m \u001b[0;34m\u001b[0m\u001b[0m\n\u001b[1;32m   1529\u001b[0m         \u001b[0;32mtry\u001b[0m\u001b[0;34m:\u001b[0m\u001b[0;34m\u001b[0m\u001b[0;34m\u001b[0m\u001b[0m\n",
            "\u001b[0;32m/usr/local/lib/python3.10/dist-packages/torch/nn/modules/rnn.py\u001b[0m in \u001b[0;36mforward\u001b[0;34m(self, input, hx)\u001b[0m\n\u001b[1;32m    869\u001b[0m                         msg = (\"For unbatched 2-D input, hx and cx should \"\n\u001b[1;32m    870\u001b[0m                                f\"also be 2-D but got ({hx[0].dim()}-D, {hx[1].dim()}-D) tensors\")\n\u001b[0;32m--> 871\u001b[0;31m                         \u001b[0;32mraise\u001b[0m \u001b[0mRuntimeError\u001b[0m\u001b[0;34m(\u001b[0m\u001b[0mmsg\u001b[0m\u001b[0;34m)\u001b[0m\u001b[0;34m\u001b[0m\u001b[0;34m\u001b[0m\u001b[0m\n\u001b[0m\u001b[1;32m    872\u001b[0m                     \u001b[0mhx\u001b[0m \u001b[0;34m=\u001b[0m \u001b[0;34m(\u001b[0m\u001b[0mhx\u001b[0m\u001b[0;34m[\u001b[0m\u001b[0;36m0\u001b[0m\u001b[0;34m]\u001b[0m\u001b[0;34m.\u001b[0m\u001b[0munsqueeze\u001b[0m\u001b[0;34m(\u001b[0m\u001b[0;36m1\u001b[0m\u001b[0;34m)\u001b[0m\u001b[0;34m,\u001b[0m \u001b[0mhx\u001b[0m\u001b[0;34m[\u001b[0m\u001b[0;36m1\u001b[0m\u001b[0;34m]\u001b[0m\u001b[0;34m.\u001b[0m\u001b[0munsqueeze\u001b[0m\u001b[0;34m(\u001b[0m\u001b[0;36m1\u001b[0m\u001b[0;34m)\u001b[0m\u001b[0;34m)\u001b[0m\u001b[0;34m\u001b[0m\u001b[0;34m\u001b[0m\u001b[0m\n\u001b[1;32m    873\u001b[0m                 \u001b[0;31m# Each batch of the hidden state should match the input sequence that\u001b[0m\u001b[0;34m\u001b[0m\u001b[0;34m\u001b[0m\u001b[0m\n",
            "\u001b[0;31mRuntimeError\u001b[0m: For unbatched 2-D input, hx and cx should also be 2-D but got (3-D, 3-D) tensors"
          ]
        }
      ]
    },
    {
      "cell_type": "code",
      "source": [
        "loss_fn = nn.CrossEntropyLoss()\n",
        "optimizer = optim.Adam(model.parameters(),lr=0.0002)"
      ],
      "metadata": {
        "id": "U-pWGizhHiLk"
      },
      "id": "U-pWGizhHiLk",
      "execution_count": null,
      "outputs": []
    },
    {
      "cell_type": "code",
      "source": [
        "def train(\n",
        "        data,\n",
        "        loss_fn=loss_fn,\n",
        "        optimizer=optimizer,\n",
        "        device=device,\n",
        "        model=model\n",
        "    ):\n",
        "    model.train()\n",
        "    train_loss = 0\n",
        "\n",
        "    for X,y in data:\n",
        "        optimizer.zero_grad()\n",
        "        X,y = X.to(device),y.to(device)\n",
        "        output = model(X)\n",
        "        loss = loss_fn(output,y)\n",
        "        loss.backward()\n",
        "        optimizer.step()\n",
        "        train_loss += loss.item()\n",
        "    return train_loss\n",
        "\n",
        "\n",
        "\n"
      ],
      "metadata": {
        "id": "Z7JGE3buFf99"
      },
      "id": "Z7JGE3buFf99",
      "execution_count": null,
      "outputs": []
    },
    {
      "cell_type": "code",
      "source": [
        "def test_step(\n",
        "        data,\n",
        "        model=model,\n",
        "        loss_fn=loss_fn,\n",
        "        device=device\n",
        "    ):\n",
        "    model.eval()\n",
        "    test_loss = 0\n",
        "\n",
        "    for X,y in data:\n",
        "        X,y = X.to(device),y.to(device)\n",
        "        output = model(X)\n",
        "        loss = loss_fn(output,y)\n",
        "        test_loss += loss.item()\n",
        "    return test_loss\n"
      ],
      "metadata": {
        "id": "YpTCJjPGLfxd"
      },
      "id": "YpTCJjPGLfxd",
      "execution_count": null,
      "outputs": []
    },
    {
      "cell_type": "code",
      "source": [
        "epochs = 100"
      ],
      "metadata": {
        "id": "23IeXQk4L9T2"
      },
      "id": "23IeXQk4L9T2",
      "execution_count": null,
      "outputs": []
    },
    {
      "cell_type": "code",
      "source": [
        "for epoch in range(epochs):\n",
        "    train_loss = train(data=Train_loader)\n",
        "    test_loss = test_step(data=Test_loader)\n",
        "    print(f'epoch: {epoch} <> train loss: {train_loss} <> test loss: {test_loss}')"
      ],
      "metadata": {
        "id": "Gz7jDGPPL_ZW"
      },
      "id": "Gz7jDGPPL_ZW",
      "execution_count": null,
      "outputs": []
    }
  ],
  "metadata": {
    "kernelspec": {
      "display_name": "Python 3",
      "name": "python3"
    },
    "language_info": {
      "codemirror_mode": {
        "name": "ipython",
        "version": 3
      },
      "file_extension": ".py",
      "mimetype": "text/x-python",
      "name": "python",
      "nbconvert_exporter": "python",
      "pygments_lexer": "ipython3",
      "version": "3.11.4"
    },
    "colab": {
      "provenance": [],
      "gpuType": "T4"
    },
    "accelerator": "GPU"
  },
  "nbformat": 4,
  "nbformat_minor": 5
}