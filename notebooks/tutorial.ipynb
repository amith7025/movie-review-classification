{
  "nbformat": 4,
  "nbformat_minor": 0,
  "metadata": {
    "colab": {
      "provenance": []
    },
    "kernelspec": {
      "name": "python3",
      "display_name": "Python 3"
    },
    "language_info": {
      "name": "python"
    }
  },
  "cells": [
    {
      "cell_type": "code",
      "execution_count": 59,
      "metadata": {
        "id": "pVQySp12lNze"
      },
      "outputs": [],
      "source": [
        "import torch\n",
        "import torch.nn as nn\n",
        "import torch.nn.functional as F\n",
        "import torch.optim"
      ]
    },
    {
      "cell_type": "markdown",
      "source": [
        "# **Tutorial**"
      ],
      "metadata": {
        "id": "iKlckXCxoSSL"
      }
    },
    {
      "cell_type": "code",
      "source": [
        "torch.manual_seed(1)"
      ],
      "metadata": {
        "colab": {
          "base_uri": "https://localhost:8080/"
        },
        "id": "0YkVp-URlWAR",
        "outputId": "74e2d8ea-83bd-4cdc-f712-45c1c8954c51"
      },
      "execution_count": 60,
      "outputs": [
        {
          "output_type": "execute_result",
          "data": {
            "text/plain": [
              "<torch._C.Generator at 0x7adb480b5550>"
            ]
          },
          "metadata": {},
          "execution_count": 60
        }
      ]
    },
    {
      "cell_type": "code",
      "source": [
        "lstm = nn.LSTM(3,3)"
      ],
      "metadata": {
        "id": "zyER5eWDmR9H"
      },
      "execution_count": 61,
      "outputs": []
    },
    {
      "cell_type": "code",
      "source": [
        "inputs = [torch.rand(1,3) for _ in range(5)]\n",
        "print(inputs)"
      ],
      "metadata": {
        "colab": {
          "base_uri": "https://localhost:8080/"
        },
        "id": "AMd7e0crmkeg",
        "outputId": "5fdebb18-3ba2-45a3-eddf-0adcf90cb6ff"
      },
      "execution_count": 62,
      "outputs": [
        {
          "output_type": "stream",
          "name": "stdout",
          "text": [
            "[tensor([[0.6705, 0.5896, 0.2873]]), tensor([[0.3486, 0.9579, 0.4075]]), tensor([[0.7819, 0.7165, 0.1768]]), tensor([[0.0748, 0.9799, 0.5261]]), tensor([[0.8427, 0.6036, 0.6608]])]\n"
          ]
        }
      ]
    },
    {
      "cell_type": "code",
      "source": [
        "hidden = (\n",
        "    torch.randn(1,1,3),\n",
        "    torch.randn(1,1,3)\n",
        ")\n",
        "hidden"
      ],
      "metadata": {
        "colab": {
          "base_uri": "https://localhost:8080/"
        },
        "id": "NsEPuuEhm10n",
        "outputId": "108ae0ec-2a30-4aa8-90d4-a3dcfc9d83fe"
      },
      "execution_count": 63,
      "outputs": [
        {
          "output_type": "execute_result",
          "data": {
            "text/plain": [
              "(tensor([[[ 0.9183, -0.0703,  1.1469]]]),\n",
              " tensor([[[-0.1082,  0.8635,  0.8067]]]))"
            ]
          },
          "metadata": {},
          "execution_count": 63
        }
      ]
    },
    {
      "cell_type": "code",
      "source": [
        "inputs[0],inputs[0].view(1,1,-1)"
      ],
      "metadata": {
        "colab": {
          "base_uri": "https://localhost:8080/"
        },
        "id": "YjjVOulGm3_W",
        "outputId": "3a0d853c-2ebf-4cad-d0b3-a77c0585034b"
      },
      "execution_count": 64,
      "outputs": [
        {
          "output_type": "execute_result",
          "data": {
            "text/plain": [
              "(tensor([[0.6705, 0.5896, 0.2873]]), tensor([[[0.6705, 0.5896, 0.2873]]]))"
            ]
          },
          "metadata": {},
          "execution_count": 64
        }
      ]
    },
    {
      "cell_type": "code",
      "source": [
        "for i in inputs:\n",
        "    out,hidden = lstm(i.view(1,1,-1),hidden)"
      ],
      "metadata": {
        "id": "qA2-y6ZDnZy2"
      },
      "execution_count": 65,
      "outputs": []
    },
    {
      "cell_type": "code",
      "source": [
        "print(out)\n",
        "print(hidden)"
      ],
      "metadata": {
        "colab": {
          "base_uri": "https://localhost:8080/"
        },
        "id": "Mg1RMJo-nxrf",
        "outputId": "0ca486ee-27ba-4659-d804-c2b21e30c0cb"
      },
      "execution_count": 66,
      "outputs": [
        {
          "output_type": "stream",
          "name": "stdout",
          "text": [
            "tensor([[[-0.0043, -0.2319, -0.0448]]], grad_fn=<MkldnnRnnLayerBackward0>)\n",
            "(tensor([[[-0.0043, -0.2319, -0.0448]]], grad_fn=<StackBackward0>), tensor([[[-0.0089, -0.4142, -0.2258]]], grad_fn=<StackBackward0>))\n"
          ]
        }
      ]
    },
    {
      "cell_type": "markdown",
      "source": [
        "Lets begin the project"
      ],
      "metadata": {
        "id": "ukcrboWLpkre"
      }
    },
    {
      "cell_type": "code",
      "source": [],
      "metadata": {
        "id": "LFUpjf4Yn80O"
      },
      "execution_count": 66,
      "outputs": []
    }
  ]
}