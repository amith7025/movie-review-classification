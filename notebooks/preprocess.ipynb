{
 "cells": [
  {
   "cell_type": "code",
   "execution_count": 1,
   "id": "bb3a7032-7c98-4759-a3a8-04d26a95b0f8",
   "metadata": {},
   "outputs": [],
   "source": [
    "import pandas as pd\n",
    "import numpy as np\n",
    "import matplotlib.pyplot as plt\n",
    "import random\n",
    "import spacy"
   ]
  },
  {
   "cell_type": "code",
   "execution_count": 2,
   "id": "71cb43fb-7207-414f-a39b-12942200858b",
   "metadata": {},
   "outputs": [
    {
     "data": {
      "text/html": [
       "<div>\n",
       "<style scoped>\n",
       "    .dataframe tbody tr th:only-of-type {\n",
       "        vertical-align: middle;\n",
       "    }\n",
       "\n",
       "    .dataframe tbody tr th {\n",
       "        vertical-align: top;\n",
       "    }\n",
       "\n",
       "    .dataframe thead th {\n",
       "        text-align: right;\n",
       "    }\n",
       "</style>\n",
       "<table border=\"1\" class=\"dataframe\">\n",
       "  <thead>\n",
       "    <tr style=\"text-align: right;\">\n",
       "      <th></th>\n",
       "      <th>text</th>\n",
       "      <th>label</th>\n",
       "    </tr>\n",
       "  </thead>\n",
       "  <tbody>\n",
       "    <tr>\n",
       "      <th>0</th>\n",
       "      <td>I grew up (b. 1965) watching and loving the Th...</td>\n",
       "      <td>0</td>\n",
       "    </tr>\n",
       "    <tr>\n",
       "      <th>1</th>\n",
       "      <td>When I put this movie in my DVD player, and sa...</td>\n",
       "      <td>0</td>\n",
       "    </tr>\n",
       "    <tr>\n",
       "      <th>2</th>\n",
       "      <td>Why do people who do not know what a particula...</td>\n",
       "      <td>0</td>\n",
       "    </tr>\n",
       "    <tr>\n",
       "      <th>3</th>\n",
       "      <td>Even though I have great interest in Biblical ...</td>\n",
       "      <td>0</td>\n",
       "    </tr>\n",
       "    <tr>\n",
       "      <th>4</th>\n",
       "      <td>Im a die hard Dads Army fan and nothing will e...</td>\n",
       "      <td>1</td>\n",
       "    </tr>\n",
       "  </tbody>\n",
       "</table>\n",
       "</div>"
      ],
      "text/plain": [
       "                                                text  label\n",
       "0  I grew up (b. 1965) watching and loving the Th...      0\n",
       "1  When I put this movie in my DVD player, and sa...      0\n",
       "2  Why do people who do not know what a particula...      0\n",
       "3  Even though I have great interest in Biblical ...      0\n",
       "4  Im a die hard Dads Army fan and nothing will e...      1"
      ]
     },
     "execution_count": 2,
     "metadata": {},
     "output_type": "execute_result"
    }
   ],
   "source": [
    "train_df = pd.read_csv('data/Train.csv')\n",
    "train_df.head()"
   ]
  },
  {
   "cell_type": "code",
   "execution_count": 3,
   "id": "27e07b59-330b-4935-8253-75f21f2df2d8",
   "metadata": {},
   "outputs": [],
   "source": [
    "train_df = train_df.dropna()"
   ]
  },
  {
   "cell_type": "code",
   "execution_count": 4,
   "id": "a3a7fb2b-b8b7-44d9-93eb-1609e9e46271",
   "metadata": {},
   "outputs": [
    {
     "name": "stdout",
     "output_type": "stream",
     "text": [
      "40000\n"
     ]
    }
   ],
   "source": [
    "print(len(train_df))"
   ]
  },
  {
   "cell_type": "code",
   "execution_count": 5,
   "id": "4ce0e3ee-ac98-4bf9-9982-c69ce2c31e7d",
   "metadata": {},
   "outputs": [
    {
     "data": {
      "text/html": [
       "<div>\n",
       "<style scoped>\n",
       "    .dataframe tbody tr th:only-of-type {\n",
       "        vertical-align: middle;\n",
       "    }\n",
       "\n",
       "    .dataframe tbody tr th {\n",
       "        vertical-align: top;\n",
       "    }\n",
       "\n",
       "    .dataframe thead th {\n",
       "        text-align: right;\n",
       "    }\n",
       "</style>\n",
       "<table border=\"1\" class=\"dataframe\">\n",
       "  <thead>\n",
       "    <tr style=\"text-align: right;\">\n",
       "      <th></th>\n",
       "      <th>label</th>\n",
       "    </tr>\n",
       "  </thead>\n",
       "  <tbody>\n",
       "    <tr>\n",
       "      <th>count</th>\n",
       "      <td>40000.000000</td>\n",
       "    </tr>\n",
       "    <tr>\n",
       "      <th>mean</th>\n",
       "      <td>0.499525</td>\n",
       "    </tr>\n",
       "    <tr>\n",
       "      <th>std</th>\n",
       "      <td>0.500006</td>\n",
       "    </tr>\n",
       "    <tr>\n",
       "      <th>min</th>\n",
       "      <td>0.000000</td>\n",
       "    </tr>\n",
       "    <tr>\n",
       "      <th>25%</th>\n",
       "      <td>0.000000</td>\n",
       "    </tr>\n",
       "    <tr>\n",
       "      <th>50%</th>\n",
       "      <td>0.000000</td>\n",
       "    </tr>\n",
       "    <tr>\n",
       "      <th>75%</th>\n",
       "      <td>1.000000</td>\n",
       "    </tr>\n",
       "    <tr>\n",
       "      <th>max</th>\n",
       "      <td>1.000000</td>\n",
       "    </tr>\n",
       "  </tbody>\n",
       "</table>\n",
       "</div>"
      ],
      "text/plain": [
       "              label\n",
       "count  40000.000000\n",
       "mean       0.499525\n",
       "std        0.500006\n",
       "min        0.000000\n",
       "25%        0.000000\n",
       "50%        0.000000\n",
       "75%        1.000000\n",
       "max        1.000000"
      ]
     },
     "execution_count": 5,
     "metadata": {},
     "output_type": "execute_result"
    }
   ],
   "source": [
    "train_df.describe()"
   ]
  },
  {
   "cell_type": "code",
   "execution_count": 6,
   "id": "a467201e-fb96-4017-b6d2-cd49d494541e",
   "metadata": {},
   "outputs": [
    {
     "data": {
      "text/plain": [
       "label\n",
       "0    20019\n",
       "1    19981\n",
       "Name: count, dtype: int64"
      ]
     },
     "execution_count": 6,
     "metadata": {},
     "output_type": "execute_result"
    }
   ],
   "source": [
    "train_df.label.value_counts()"
   ]
  },
  {
   "cell_type": "code",
   "execution_count": 7,
   "id": "61acaee0-4217-489f-8868-f79c90b3f2f1",
   "metadata": {},
   "outputs": [
    {
     "data": {
      "text/plain": [
       "\"I saw a preview of Freebird at the Isle of Man TT as i had heard about it in a couple of motorcycle mags. Although i was over mainly for the racing, the lure of seeing Phil Daniels in a motorcycle movie (yes i love Quadrophenia like everyone else) proved enough to get me away from the beer and partying. At last! we've done it! us British have actually made a great motorcycle film (and no it's not like Torque) this is up there with the best of British comedy. Mark my words, this is Phil Daniels best screen performance, and as far as Geoff Bell is concerned, there's a new British legend making his name felt. I loved Gary Stretch in Shane Meadows' fantastic Dead Mans Shoes and here he gives a quietly touching performance that he can proudly add to his growing film reputation. This is a film not just for us Bikers, but I think for everyone (even my girlfriend loved it). I hope it gets the same brilliant response on the mainland as it got at the Isle of Man. I'm not going to go into the details of certain classic scenes that this movie has, (watch out for the shop), as it would spoil the fun, but i would say, go see, enjoy, and have one of the best nights in the cinema you've had in a while. I really think this could well be a cult classic. As they were saying at the TT... C'Mon Freebird!\""
      ]
     },
     "execution_count": 7,
     "metadata": {},
     "output_type": "execute_result"
    }
   ],
   "source": [
    "random.choice(train_df.text)"
   ]
  },
  {
   "cell_type": "code",
   "execution_count": 8,
   "id": "42278f7d-166e-4978-abf2-dc8eb30b7f95",
   "metadata": {},
   "outputs": [],
   "source": [
    "def removeBr(text:str):\n",
    "    text = text.replace('\\\\','')\n",
    "    return text.replace('<br />','')"
   ]
  },
  {
   "cell_type": "code",
   "execution_count": 9,
   "id": "8d048fe7-690c-4808-9fa1-14fd404953ad",
   "metadata": {},
   "outputs": [],
   "source": [
    "train_df['text'] = train_df.text.apply(lambda x : removeBr(x))"
   ]
  },
  {
   "cell_type": "code",
   "execution_count": 10,
   "id": "674f8dc0-af7e-47f5-8c1b-57202f48b9e0",
   "metadata": {},
   "outputs": [
    {
     "data": {
      "text/plain": [
       "(-0.49, 1.49, 0.0, 21019.95)"
      ]
     },
     "execution_count": 10,
     "metadata": {},
     "output_type": "execute_result"
    },
    {
     "data": {
      "image/png": "[encoded data removed]",
      "text/plain": [
       "<Figure size 640x480 with 1 Axes>"
      ]
     },
     "metadata": {},
     "output_type": "display_data"
    }
   ],
   "source": [
    "plt.bar(list(set(train_df.label)),list(train_df.label.value_counts()))\n",
    "plt.axis('off')"
   ]
  },
  {
   "cell_type": "code",
   "execution_count": 11,
   "id": "a2b847b8-4fe2-4394-90f7-2ea45cace0d1",
   "metadata": {},
   "outputs": [
    {
     "data": {
      "text/plain": [
       "13584"
      ]
     },
     "execution_count": 11,
     "metadata": {},
     "output_type": "execute_result"
    }
   ],
   "source": [
    "max_len = max([len(x) for x in train_df.text])\n",
    "max_len"
   ]
  },
  {
   "cell_type": "code",
   "execution_count": 12,
   "id": "dd8fd411-3c4d-41b3-952f-3b630f565c2e",
   "metadata": {},
   "outputs": [
    {
     "data": {
      "text/plain": [
       "'I grewup(b.1965)atchindlovTsAmyW\"f,VSNCkHGJFUjDx-:BM\\'Rq?!YLE/Oz*ZKQ87P0234;é_X%\\x85~&$\\x96+#`{}[]ò=£\\x97ü\\x91@ûí´èÆà\\xa0ō|öçïä\\x95ýá><\\x84ñÜôåâóêî\\x80^–Ê½’“”‘…ù\\xadøãÀ¾ß\\tŻÓë°úÄ¨È·«»Ö\\x9a\\x8e\\x9eºığìÉ，、ðÞ★¡″§\\x8dיגאלכרמוןÏÅÃ®ÁÇÂ₤³Õæ¢¤\\uf0b7\\x10¦¿'"
      ]
     },
     "execution_count": 12,
     "metadata": {},
     "output_type": "execute_result"
    }
   ],
   "source": [
    "tokens = ''\n",
    "\n",
    "for i in list(train_df.text):\n",
    "    for j in list(i):\n",
    "        if j in tokens:\n",
    "            continue\n",
    "        else:\n",
    "            tokens += j\n",
    "\n",
    "tokens\n",
    "        "
   ]
  },
  {
   "cell_type": "code",
   "execution_count": 13,
   "id": "a268efb4-bd73-47e4-bab9-b12d9d1a6c8e",
   "metadata": {},
   "outputs": [
    {
     "data": {
      "text/plain": [
       "{'I': 0,\n",
       " ' ': 1,\n",
       " 'g': 2,\n",
       " 'r': 3,\n",
       " 'e': 4,\n",
       " 'w': 5,\n",
       " 'u': 6,\n",
       " 'p': 7,\n",
       " '(': 8,\n",
       " 'b': 9,\n",
       " '.': 10,\n",
       " '1': 11,\n",
       " '9': 12,\n",
       " '6': 13,\n",
       " '5': 14,\n",
       " ')': 15,\n",
       " 'a': 16,\n",
       " 't': 17,\n",
       " 'c': 18,\n",
       " 'h': 19,\n",
       " 'i': 20,\n",
       " 'n': 21,\n",
       " 'd': 22,\n",
       " 'l': 23,\n",
       " 'o': 24,\n",
       " 'v': 25,\n",
       " 'T': 26,\n",
       " 's': 27,\n",
       " 'A': 28,\n",
       " 'm': 29,\n",
       " 'y': 30,\n",
       " 'W': 31,\n",
       " '\"': 32,\n",
       " 'f': 33,\n",
       " ',': 34,\n",
       " 'V': 35,\n",
       " 'S': 36,\n",
       " 'N': 37,\n",
       " 'C': 38,\n",
       " 'k': 39,\n",
       " 'H': 40,\n",
       " 'G': 41,\n",
       " 'J': 42,\n",
       " 'F': 43,\n",
       " 'U': 44,\n",
       " 'j': 45,\n",
       " 'D': 46,\n",
       " 'x': 47,\n",
       " '-': 48,\n",
       " ':': 49,\n",
       " 'B': 50,\n",
       " 'M': 51,\n",
       " \"'\": 52,\n",
       " 'R': 53,\n",
       " 'q': 54,\n",
       " '?': 55,\n",
       " '!': 56,\n",
       " 'Y': 57,\n",
       " 'L': 58,\n",
       " 'E': 59,\n",
       " '/': 60,\n",
       " 'O': 61,\n",
       " 'z': 62,\n",
       " '*': 63,\n",
       " 'Z': 64,\n",
       " 'K': 65,\n",
       " 'Q': 66,\n",
       " '8': 67,\n",
       " '7': 68,\n",
       " 'P': 69,\n",
       " '0': 70,\n",
       " '2': 71,\n",
       " '3': 72,\n",
       " '4': 73,\n",
       " ';': 74,\n",
       " 'é': 75,\n",
       " '_': 76,\n",
       " 'X': 77,\n",
       " '%': 78,\n",
       " '\\x85': 79,\n",
       " '~': 80,\n",
       " '&': 81,\n",
       " '$': 82,\n",
       " '\\x96': 83,\n",
       " '+': 84,\n",
       " '#': 85,\n",
       " '`': 86,\n",
       " '{': 87,\n",
       " '}': 88,\n",
       " '[': 89,\n",
       " ']': 90,\n",
       " 'ò': 91,\n",
       " '=': 92,\n",
       " '£': 93,\n",
       " '\\x97': 94,\n",
       " 'ü': 95,\n",
       " '\\x91': 96,\n",
       " '@': 97,\n",
       " 'û': 98,\n",
       " 'í': 99,\n",
       " '´': 100,\n",
       " 'è': 101,\n",
       " 'Æ': 102,\n",
       " 'à': 103,\n",
       " '\\xa0': 104,\n",
       " 'ō': 105,\n",
       " '|': 106,\n",
       " 'ö': 107,\n",
       " 'ç': 108,\n",
       " 'ï': 109,\n",
       " 'ä': 110,\n",
       " '\\x95': 111,\n",
       " 'ý': 112,\n",
       " 'á': 113,\n",
       " '>': 114,\n",
       " '<': 115,\n",
       " '\\x84': 116,\n",
       " 'ñ': 117,\n",
       " 'Ü': 118,\n",
       " 'ô': 119,\n",
       " 'å': 120,\n",
       " 'â': 121,\n",
       " 'ó': 122,\n",
       " 'ê': 123,\n",
       " 'î': 124,\n",
       " '\\x80': 125,\n",
       " '^': 126,\n",
       " '–': 127,\n",
       " 'Ê': 128,\n",
       " '½': 129,\n",
       " '’': 130,\n",
       " '“': 131,\n",
       " '”': 132,\n",
       " '‘': 133,\n",
       " '…': 134,\n",
       " 'ù': 135,\n",
       " '\\xad': 136,\n",
       " 'ø': 137,\n",
       " 'ã': 138,\n",
       " 'À': 139,\n",
       " '¾': 140,\n",
       " 'ß': 141,\n",
       " '\\t': 142,\n",
       " 'Ż': 143,\n",
       " 'Ó': 144,\n",
       " 'ë': 145,\n",
       " '°': 146,\n",
       " 'ú': 147,\n",
       " 'Ä': 148,\n",
       " '¨': 149,\n",
       " 'È': 150,\n",
       " '·': 151,\n",
       " '«': 152,\n",
       " '»': 153,\n",
       " 'Ö': 154,\n",
       " '\\x9a': 155,\n",
       " '\\x8e': 156,\n",
       " '\\x9e': 157,\n",
       " 'º': 158,\n",
       " 'ı': 159,\n",
       " 'ğ': 160,\n",
       " 'ì': 161,\n",
       " 'É': 162,\n",
       " '，': 163,\n",
       " '、': 164,\n",
       " 'ð': 165,\n",
       " 'Þ': 166,\n",
       " '★': 167,\n",
       " '¡': 168,\n",
       " '″': 169,\n",
       " '§': 170,\n",
       " '\\x8d': 171,\n",
       " 'י': 172,\n",
       " 'ג': 173,\n",
       " 'א': 174,\n",
       " 'ל': 175,\n",
       " 'כ': 176,\n",
       " 'ר': 177,\n",
       " 'מ': 178,\n",
       " 'ו': 179,\n",
       " 'ן': 180,\n",
       " 'Ï': 181,\n",
       " 'Å': 182,\n",
       " 'Ã': 183,\n",
       " '®': 184,\n",
       " 'Á': 185,\n",
       " 'Ç': 186,\n",
       " 'Â': 187,\n",
       " '₤': 188,\n",
       " '³': 189,\n",
       " 'Õ': 190,\n",
       " 'æ': 191,\n",
       " '¢': 192,\n",
       " '¤': 193,\n",
       " '\\uf0b7': 194,\n",
       " '\\x10': 195,\n",
       " '¦': 196,\n",
       " '¿': 197}"
      ]
     },
     "execution_count": 13,
     "metadata": {},
     "output_type": "execute_result"
    }
   ],
   "source": [
    "char_to_tok = {k:v for v,k in enumerate(list(tokens))}\n",
    "char_to_tok"
   ]
  },
  {
   "cell_type": "code",
   "execution_count": 14,
   "id": "e2a71ee4-1e35-41a3-8d54-22ddcf02f398",
   "metadata": {},
   "outputs": [],
   "source": [
    "def label_encoder(text):\n",
    "    L = []\n",
    "    for i in list(text):\n",
    "        L.append(char_to_tok[i])\n",
    "    for _ in range(len(L),450):\n",
    "        L.append(-1)\n",
    "    return L"
   ]
  },
  {
   "cell_type": "code",
   "execution_count": 15,
   "id": "0883f566-5b02-4add-9b81-01a0d2834457",
   "metadata": {},
   "outputs": [],
   "source": [
    "train_df['label_encoded'] = train_df.text.apply(lambda x : label_encoder(x))"
   ]
  },
  {
   "cell_type": "code",
   "execution_count": 16,
   "id": "a033ea1f-22d2-41d6-ab9d-ce4d43f64bb9",
   "metadata": {},
   "outputs": [
    {
     "data": {
      "text/html": [
       "<div>\n",
       "<style scoped>\n",
       "    .dataframe tbody tr th:only-of-type {\n",
       "        vertical-align: middle;\n",
       "    }\n",
       "\n",
       "    .dataframe tbody tr th {\n",
       "        vertical-align: top;\n",
       "    }\n",
       "\n",
       "    .dataframe thead th {\n",
       "        text-align: right;\n",
       "    }\n",
       "</style>\n",
       "<table border=\"1\" class=\"dataframe\">\n",
       "  <thead>\n",
       "    <tr style=\"text-align: right;\">\n",
       "      <th></th>\n",
       "      <th>text</th>\n",
       "      <th>label</th>\n",
       "      <th>label_encoded</th>\n",
       "    </tr>\n",
       "  </thead>\n",
       "  <tbody>\n",
       "    <tr>\n",
       "      <th>0</th>\n",
       "      <td>I grew up (b. 1965) watching and loving the Th...</td>\n",
       "      <td>0</td>\n",
       "      <td>[0, 1, 2, 3, 4, 5, 1, 6, 7, 1, 8, 9, 10, 1, 11...</td>\n",
       "    </tr>\n",
       "    <tr>\n",
       "      <th>1</th>\n",
       "      <td>When I put this movie in my DVD player, and sa...</td>\n",
       "      <td>0</td>\n",
       "      <td>[31, 19, 4, 21, 1, 0, 1, 7, 6, 17, 1, 17, 19, ...</td>\n",
       "    </tr>\n",
       "    <tr>\n",
       "      <th>2</th>\n",
       "      <td>Why do people who do not know what a particula...</td>\n",
       "      <td>0</td>\n",
       "      <td>[31, 19, 30, 1, 22, 24, 1, 7, 4, 24, 7, 23, 4,...</td>\n",
       "    </tr>\n",
       "    <tr>\n",
       "      <th>3</th>\n",
       "      <td>Even though I have great interest in Biblical ...</td>\n",
       "      <td>0</td>\n",
       "      <td>[59, 25, 4, 21, 1, 17, 19, 24, 6, 2, 19, 1, 0,...</td>\n",
       "    </tr>\n",
       "    <tr>\n",
       "      <th>4</th>\n",
       "      <td>Im a die hard Dads Army fan and nothing will e...</td>\n",
       "      <td>1</td>\n",
       "      <td>[0, 29, 1, 16, 1, 22, 20, 4, 1, 19, 16, 3, 22,...</td>\n",
       "    </tr>\n",
       "  </tbody>\n",
       "</table>\n",
       "</div>"
      ],
      "text/plain": [
       "                                                text  label  \\\n",
       "0  I grew up (b. 1965) watching and loving the Th...      0   \n",
       "1  When I put this movie in my DVD player, and sa...      0   \n",
       "2  Why do people who do not know what a particula...      0   \n",
       "3  Even though I have great interest in Biblical ...      0   \n",
       "4  Im a die hard Dads Army fan and nothing will e...      1   \n",
       "\n",
       "                                       label_encoded  \n",
       "0  [0, 1, 2, 3, 4, 5, 1, 6, 7, 1, 8, 9, 10, 1, 11...  \n",
       "1  [31, 19, 4, 21, 1, 0, 1, 7, 6, 17, 1, 17, 19, ...  \n",
       "2  [31, 19, 30, 1, 22, 24, 1, 7, 4, 24, 7, 23, 4,...  \n",
       "3  [59, 25, 4, 21, 1, 17, 19, 24, 6, 2, 19, 1, 0,...  \n",
       "4  [0, 29, 1, 16, 1, 22, 20, 4, 1, 19, 16, 3, 22,...  "
      ]
     },
     "execution_count": 16,
     "metadata": {},
     "output_type": "execute_result"
    }
   ],
   "source": [
    "train_df.head()"
   ]
  },
  {
   "cell_type": "code",
   "execution_count": 17,
   "id": "d12cc172-b5a1-4970-9423-aaf9fe220b35",
   "metadata": {},
   "outputs": [],
   "source": [
    "nlp = spacy.load('en_core_web_lg')"
   ]
  },
  {
   "cell_type": "code",
   "execution_count": 18,
   "id": "fa128652-41e8-48e9-93b2-19037a0be358",
   "metadata": {},
   "outputs": [],
   "source": [
    "def spacy_preprocess(text):\n",
    "    L = []\n",
    "    doc = nlp(text)\n",
    "    return doc.vector"
   ]
  },
  {
   "cell_type": "code",
   "execution_count": null,
   "id": "3342a743-15cd-4560-8c86-178a94aea610",
   "metadata": {},
   "outputs": [],
   "source": [
    "train_df['spacy_encoded'] = train_df.text.apply(lambda x : spacy_preprocess(x))"
   ]
  },
  {
   "cell_type": "code",
   "execution_count": null,
   "id": "50b54cb7-5ac0-41b1-9990-3102543082dd",
   "metadata": {},
   "outputs": [],
   "source": [
    "df.to_csv('output.csv', index=False)"
   ]
  },
  {
   "cell_type": "code",
   "execution_count": null,
   "id": "bc3334ff-bef7-464f-acdb-8be77786241e",
   "metadata": {},
   "outputs": [],
   "source": []
  }
 ],
 "metadata": {
  "kernelspec": {
   "display_name": "Python 3 (ipykernel)",
   "language": "python",
   "name": "python3"
  },
  "language_info": {
   "codemirror_mode": {
    "name": "ipython",
    "version": 3
   },
   "file_extension": ".py",
   "mimetype": "text/x-python",
   "name": "python",
   "nbconvert_exporter": "python",
   "pygments_lexer": "ipython3",
   "version": "3.11.4"
  }
 },
 "nbformat": 4,
 "nbformat_minor": 5
}
